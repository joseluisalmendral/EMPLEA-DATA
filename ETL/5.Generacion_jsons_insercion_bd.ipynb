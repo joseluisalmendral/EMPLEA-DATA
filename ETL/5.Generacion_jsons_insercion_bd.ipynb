{
 "cells": [
  {
   "cell_type": "markdown",
   "metadata": {},
   "source": [
    "# Generacion de jsons e insercion de estos en la base de datos"
   ]
  },
  {
   "cell_type": "markdown",
   "metadata": {},
   "source": [
    "#### Una vez que tenemos los datos limpios, vamos a generar nuestros documentos (jsons) para nuestra base de datos no relacional (en este caso MongoDB) y posteriormente, dejarlos guardados en esta."
   ]
  },
  {
   "cell_type": "code",
   "execution_count": 15,
   "metadata": {},
   "outputs": [],
   "source": [
    "from pymongo.mongo_client import MongoClient\n",
    "import pandas as pd\n",
    "import json\n",
    "import numpy as np\n",
    "import os\n",
    "from datetime import datetime, timedelta\n",
    "import ast"
   ]
  },
  {
   "cell_type": "code",
   "execution_count": 16,
   "metadata": {},
   "outputs": [
    {
     "data": {
      "text/plain": [
       "dict_keys(['ofertas_data_analyst_tratada', 'ofertas_data_engineer_tratada', 'ofertas_data_scientist_tratada', 'ofertas_seguridad_privacy_data_tratada'])"
      ]
     },
     "execution_count": 16,
     "metadata": {},
     "output_type": "execute_result"
    }
   ],
   "source": [
    "# generamos nuestro diccionario con los dataframes de nuestras ofertas laborales\n",
    "ruta = '../datos/datos_recibidos_empresa/datos_skills_identificadas/tratados/'\n",
    "dic_dfs_ofertas = {archivo.rstrip('.csv') : pd.read_csv(f'{ruta}{archivo}') for archivo in os.listdir(ruta) if archivo.endswith('.csv')}\n",
    "\n",
    "dic_dfs_ofertas.keys()"
   ]
  },
  {
   "cell_type": "markdown",
   "metadata": {},
   "source": [
    "## Convertimos dataframes a jsons"
   ]
  },
  {
   "cell_type": "code",
   "execution_count": 17,
   "metadata": {},
   "outputs": [],
   "source": [
    "if not os.listdir('../datos/datos_recibidos_empresa/datos_skills_identificadas/jsons/'):\n",
    "\n",
    "    # Función para convertir columnas con listas en formato string a listas reales\n",
    "    def convertir_columnas(df, columnas):\n",
    "        for col in columnas:\n",
    "            if col in df.columns:\n",
    "                df[col] = df[col].apply(lambda x: ast.literal_eval(x) if isinstance(x, str) else [x])\n",
    "        return df\n",
    "\n",
    "    # Generar lista de fechas aleatorias\n",
    "    fecha_inicio = datetime(2024, 8, 1)\n",
    "    fecha_fin = datetime(2025, 2, 8)\n",
    "    rango_fechas = [fecha_inicio + timedelta(days=i) for i in range((fecha_fin - fecha_inicio).days + 1)]\n",
    "\n",
    "    for key, value in dic_dfs_ofertas.items():\n",
    "        data = value\n",
    "\n",
    "        # Asignar fechas aleatorias\n",
    "        data['fecha'] = np.random.choice(rango_fechas, size=len(data)).astype(str)\n",
    "        data['cat_identificada'] = 'Ninguna'\n",
    "\n",
    "        # Convertir las columnas de str a list\n",
    "        columnas_a_convertir = [\"Salario\", \"Estudios minimos\", \"Skills\"]\n",
    "        data = convertir_columnas(data, columnas_a_convertir)\n",
    "\n",
    "        # Convertir DataFrame a JSON por cada fila con el parametro 'orient'\n",
    "        json_data = data.to_dict(orient='records')\n",
    "\n",
    "        # Guardar en archivo JSON\n",
    "        nombre_archivo = key.replace('_tratada', '')\n",
    "        ruta_output = f'../datos/datos_recibidos_empresa/datos_skills_identificadas/jsons/{nombre_archivo}.json'\n",
    "        with open(ruta_output, 'w') as json_file:\n",
    "            json.dump(json_data, json_file, indent=4, ensure_ascii=False)"
   ]
  },
  {
   "cell_type": "markdown",
   "metadata": {},
   "source": [
    "## Conexion a Mongo Atlas"
   ]
  },
  {
   "cell_type": "code",
   "execution_count": null,
   "metadata": {},
   "outputs": [],
   "source": [
    "\n",
    "uri = \"mongodb+srv://root:<db_password>@cluster0.pse9r.mongodb.net/?retryWrites=true&w=majority&appName=Cluster0\"\n",
    "\n",
    "# Create a new client and connect to the server\n",
    "client = MongoClient(uri)\n",
    "\n",
    "# Send a ping to confirm a successful connection\n",
    "try:\n",
    "    client.admin.command('ping')\n",
    "    print(\"Pinged your deployment. You successfully connected to MongoDB!\")\n",
    "except Exception as e:\n",
    "    print(e)"
   ]
  }
 ],
 "metadata": {
  "kernelspec": {
   "display_name": "dev",
   "language": "python",
   "name": "python3"
  },
  "language_info": {
   "codemirror_mode": {
    "name": "ipython",
    "version": 3
   },
   "file_extension": ".py",
   "mimetype": "text/x-python",
   "name": "python",
   "nbconvert_exporter": "python",
   "pygments_lexer": "ipython3",
   "version": "3.11.8"
  }
 },
 "nbformat": 4,
 "nbformat_minor": 2
}
