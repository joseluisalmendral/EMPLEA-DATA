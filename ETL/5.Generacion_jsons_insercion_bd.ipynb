{
 "cells": [
  {
   "cell_type": "markdown",
   "metadata": {},
   "source": [
    "# Generacion de jsons e insercion de estos en la base de datos"
   ]
  },
  {
   "cell_type": "markdown",
   "metadata": {},
   "source": [
    "#### Una vez que tenemos los datos limpios, vamos a generar nuestros documentos (jsons) para nuestra base de datos no relacional (en este caso MongoDB) y posteriormente, dejarlos guardados en esta."
   ]
  },
  {
   "cell_type": "code",
   "execution_count": 4,
   "metadata": {},
   "outputs": [],
   "source": [
    "import pandas as pd\n",
    "import json\n",
    "import numpy as np\n",
    "import os\n",
    "from datetime import datetime, timedelta"
   ]
  },
  {
   "cell_type": "code",
   "execution_count": 5,
   "metadata": {},
   "outputs": [
    {
     "data": {
      "text/plain": [
       "dict_keys(['ofertas_data_analyst_tratada', 'ofertas_data_engineer_tratada', 'ofertas_data_scientist_tratada', 'ofertas_seguridad_privacy_data_tratada'])"
      ]
     },
     "execution_count": 5,
     "metadata": {},
     "output_type": "execute_result"
    }
   ],
   "source": [
    "# generamos nuestro diccionario con los dataframes de nuestras ofertas laborales\n",
    "ruta = '../datos/datos_recibidos_empresa/datos_skills_identificadas/tratados/'\n",
    "dic_dfs_ofertas = {archivo.rstrip('.csv') : pd.read_csv(f'{ruta}{archivo}') for archivo in os.listdir(ruta) if archivo.endswith('.csv')}\n",
    "\n",
    "dic_dfs_ofertas.keys()"
   ]
  },
  {
   "cell_type": "code",
   "execution_count": 6,
   "metadata": {},
   "outputs": [],
   "source": [
    "# Function to generate a list of dates within the specified range\n",
    "fecha_inicio = datetime(2024, 8, 1)\n",
    "fecha_fin = datetime(2025, 2, 8)\n",
    "rango_fechas = [fecha_inicio + timedelta(days=i) for i in range((fecha_fin - fecha_inicio).days + 1)]\n",
    "\n",
    "for key, value in dic_dfs_ofertas.items():\n",
    "\n",
    "    data = value\n",
    "\n",
    "    data['fecha'] = np.random.choice(rango_fechas, size=len(data)).astype(str)\n",
    "\n",
    "    json_data = data.to_dict(orient='records')\n",
    "\n",
    "    nombre_archivo = key.replace('_tratada','')\n",
    "    ruta_output = f'../datos/datos_recibidos_empresa/datos_skills_identificadas/jsons/{nombre_archivo}.json'\n",
    "    with open(ruta_output, 'w') as json_file:\n",
    "        json.dump(json_data, json_file, indent=4, ensure_ascii=False)\n"
   ]
  }
 ],
 "metadata": {
  "kernelspec": {
   "display_name": "dev",
   "language": "python",
   "name": "python3"
  },
  "language_info": {
   "codemirror_mode": {
    "name": "ipython",
    "version": 3
   },
   "file_extension": ".py",
   "mimetype": "text/x-python",
   "name": "python",
   "nbconvert_exporter": "python",
   "pygments_lexer": "ipython3",
   "version": "3.11.8"
  }
 },
 "nbformat": 4,
 "nbformat_minor": 2
}
