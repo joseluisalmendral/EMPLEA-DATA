{
 "cells": [
  {
   "cell_type": "markdown",
   "metadata": {},
   "source": [
    "# Creación .csv con info recibida de las empresas\n",
    "## Intro\n",
    "#### Vamos a eliminar cierta información que los gpts nos han generado en nuestros .csv hasta ahora.\n",
    "\n",
    "#### Si bien la hemos utilizado para validar procesos como la varieadd de tecnologías en la creación de ofertas o la identificación de tecnologías mediante un GPT asistente, no siempre nos vendrán identificadas las skills tecnológicas en las ofertas laborales.\n",
    "\n",
    "#### Plataformas como Infojobs, facilitan esta información.\n",
    "\n",
    "<img src=\"../recursos/img_tecnologias_solicitadas_infojobs.png\" width=\"70%\"></img>\n",
    "\n",
    "\n",
    "\n",
    "#### Otras como Linkedin o las propias ofertas laborales de las páginas web de las empresas son simples textos, por lo que hay que extraer la información y clasificarla ya que pueden haber ofertas hablando de la misma tecnología pero llamarla de forma diferente.\n",
    "\n",
    "<img src=\"../recursos/img_desc_oferta_pagina_web_empresa.png\" width=\"70%\"></img>\n",
    "\n",
    "---\n",
    "---\n"
   ]
  },
  {
   "cell_type": "markdown",
   "metadata": {},
   "source": [
    "## Importamos librerías y configuraciones"
   ]
  },
  {
   "cell_type": "code",
   "execution_count": 1,
   "metadata": {},
   "outputs": [],
   "source": [
    "import pandas as pd\n",
    "\n",
    "%load_ext autoreload\n",
    "%autoreload 2"
   ]
  },
  {
   "cell_type": "markdown",
   "metadata": {},
   "source": [
    "## Leemos todos los archivos y generamos los nuevos con los cambios que queremos"
   ]
  },
  {
   "cell_type": "code",
   "execution_count": 2,
   "metadata": {},
   "outputs": [
    {
     "name": "stdout",
     "output_type": "stream",
     "text": [
      "Archivos .csv encontrados:\n",
      "ofertas_data_analyst.csv\n",
      "ofertas_data_engineer.csv\n",
      "ofertas_data_scientist.csv\n",
      "ofertas_seguridad_privacy_data.csv\n"
     ]
    }
   ],
   "source": [
    "import os\n",
    "\n",
    "def obtener_nombres_csv(ruta):\n",
    "    \"\"\"\n",
    "    Obtiene una lista con los nombres de todos los archivos .csv en la ruta dada.\n",
    "\n",
    "    Parámetros:\n",
    "        ruta (str): La ruta del directorio donde buscar los archivos .csv.\n",
    "\n",
    "    Retorna:\n",
    "        list: Una lista con los nombres de los archivos .csv encontrados.\n",
    "    \"\"\"\n",
    "    try:\n",
    "        # Lista para almacenar los nombres de los archivos .csv\n",
    "        nombres_csv = []\n",
    "\n",
    "        # Recorrer todos los archivos en la ruta\n",
    "        for archivo in os.listdir(ruta):\n",
    "            # Verificar si el archivo tiene extensión .csv\n",
    "            if archivo.endswith('.csv'):\n",
    "                nombres_csv.append(archivo)\n",
    "        \n",
    "        return nombres_csv\n",
    "    except FileNotFoundError:\n",
    "        print(\"La ruta especificada no existe.\")\n",
    "        return []\n",
    "    except Exception as e:\n",
    "        print(f\"Ha ocurrido un error: {e}\")\n",
    "        return []\n",
    "\n",
    "# Ruta del directorio donde buscar los archivos .csv\n",
    "ruta_directorio = \"../datos/sintetizadores_datos/datos_generados/\"\n",
    "\n",
    "# Obtener la lista de nombres de archivos .csv\n",
    "nombres_archivos = obtener_nombres_csv(ruta_directorio)\n",
    "\n",
    "# Mostrar la lista de nombres\n",
    "print(\"Archivos .csv encontrados:\")\n",
    "for nombre in nombres_archivos:\n",
    "    print(nombre)\n"
   ]
  },
  {
   "cell_type": "code",
   "execution_count": 4,
   "metadata": {},
   "outputs": [],
   "source": [
    "for nombre_archivo in nombres_archivos:\n",
    "\n",
    "    df = pd.read_csv(f'../datos/sintetizadores_datos/datos_generados/{nombre_archivo}')\n",
    "\n",
    "    # eliminamos los valores de la columna 'Skills'\n",
    "    df['Skills'] = \"\"\n",
    "\n",
    "    # creamos la columna de 'cat_identificada'\n",
    "    df['cat_identificada'] = \"\"\n",
    "\n",
    "    # guardamos los datos en el nuevo directorio\n",
    "    df.to_csv(f'../datos/datos_recibidos_empresa/{nombre_archivo}', index=False)"
   ]
  }
 ],
 "metadata": {
  "kernelspec": {
   "display_name": "dev",
   "language": "python",
   "name": "python3"
  },
  "language_info": {
   "codemirror_mode": {
    "name": "ipython",
    "version": 3
   },
   "file_extension": ".py",
   "mimetype": "text/x-python",
   "name": "python",
   "nbconvert_exporter": "python",
   "pygments_lexer": "ipython3",
   "version": "3.11.8"
  }
 },
 "nbformat": 4,
 "nbformat_minor": 2
}
