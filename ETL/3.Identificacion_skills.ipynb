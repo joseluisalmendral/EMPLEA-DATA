{
 "cells": [
  {
   "cell_type": "markdown",
   "metadata": {},
   "source": [
    "# Identificamos skills tecnológicas a través de las descripciones laborales\n",
    "## Intro\n",
    "#### Mediante un asistente creado en la [OpenAI developer platform](https://platform.openai.com/) vamos a extraer de las descripciones laborales, la información que queremos con el formato que he indicado al asistente, en este caso un JSON.\n",
    "\n",
    "#### Esto (mediante entrenamiento) nos ahorra problemas como:\n",
    "- Tecnologías escritas de diferente forma. (PowerBi, Power BI o Powerbi por ejemplo)\n",
    "- El idioma de las descripciones.\n",
    "- Filtros enormes que habría que hacer para el tratamiento de texto (tildes, mayusculas, etc).\n",
    "\n",
    "\n",
    "### Formato del Json resultante\n",
    "<img src=\"../recursos/json_extraido_por_model_ETL.png\" height=\"500px\">\n",
    "\n",
    "---\n",
    "---"
   ]
  },
  {
   "cell_type": "markdown",
   "metadata": {},
   "source": [
    "## Importamos librerías y configuraciones"
   ]
  },
  {
   "cell_type": "code",
   "execution_count": 1,
   "metadata": {},
   "outputs": [],
   "source": [
    "from dotenv import load_dotenv\n",
    "import os\n",
    "import openai\n",
    "from openai import OpenAI\n",
    "from typing import Optional, Dict, Any, List\n",
    "import ast\n",
    "from tqdm import tqdm\n",
    "import pandas as pd\n",
    "\n",
    "%load_ext autoreload\n",
    "%autoreload 2\n",
    "\n",
    "load_dotenv()\n",
    "\n",
    "tqdm.pandas()"
   ]
  },
  {
   "cell_type": "markdown",
   "metadata": {},
   "source": [
    "## creamos diccionario de dataframes con las ofertas"
   ]
  },
  {
   "cell_type": "code",
   "execution_count": 2,
   "metadata": {},
   "outputs": [
    {
     "data": {
      "text/plain": [
       "dict_keys(['ofertas_data_analyst', 'ofertas_data_engineer', 'ofertas_data_scientist', 'ofertas_seguridad_privacy_data'])"
      ]
     },
     "execution_count": 2,
     "metadata": {},
     "output_type": "execute_result"
    }
   ],
   "source": [
    "dic_dfs_ofertas = {archivo.rstrip('.csv') : pd.read_csv(f'../datos/datos_recibidos_empresa/{archivo}') for archivo in os.listdir('../datos/datos_recibidos_empresa/') if archivo.endswith('.csv')}\n",
    "\n",
    "dic_dfs_ofertas.keys()"
   ]
  },
  {
   "cell_type": "markdown",
   "metadata": {},
   "source": [
    "## Conectamos con api OpenAI y realizamos la extracion de skills"
   ]
  },
  {
   "cell_type": "code",
   "execution_count": 5,
   "metadata": {},
   "outputs": [],
   "source": [
    "api_openai = OpenAI(api_key=os.getenv('OPENAI_API_KEY'))\n",
    "\n",
    "# asistente creado y entrenado en el playground de la api\n",
    "asistente_extractor = api_openai.beta.assistants.retrieve(os.getenv('ASSISTANT_API_KEY'))\n",
    "\n",
    "\n",
    "def extraer_skills_descripcion(descripcion):\n",
    "\n",
    "    # por cada ejecución crearé una nueva ejecución ya que aunque es más costoso a nivel de código,\n",
    "    # es mejor a nivel de tokens ya que no tiene que mantener el contexto de la conversación y para\n",
    "    # este caso me es mejor.\n",
    "    conversacion = api_openai.beta.threads.create()\n",
    "\n",
    "    mensaje = api_openai.beta.threads.messages.create(\n",
    "    thread_id=conversacion.id,\n",
    "    role=\"user\",\n",
    "    content=descripcion\n",
    "    )\n",
    "\n",
    "    ejecucion_asistente = api_openai.beta.threads.runs.create_and_poll(\n",
    "    thread_id=conversacion.id,\n",
    "    assistant_id=asistente_extractor.id\n",
    "    )\n",
    "\n",
    "\n",
    "    if ejecucion_asistente.status == 'completed': \n",
    "        mensajes = api_openai.beta.threads.messages.list(\n",
    "        thread_id=conversacion.id\n",
    "        )\n",
    "        \n",
    "        respuesta = ast.literal_eval(mensajes.data[0].content[0].text.value)\n",
    "        return respuesta['skills'] if respuesta != None else ['Desconocidas']\n",
    "\n",
    "    else:\n",
    "        print(ejecucion_asistente.status)"
   ]
  },
  {
   "cell_type": "code",
   "execution_count": null,
   "metadata": {},
   "outputs": [],
   "source": [
    "for key, value in tqdm(dic_dfs_ofertas.items()):\n",
    "    print(f'Obteniendo info: {key.upper()}\\n')\n",
    "\n",
    "    df = value\n",
    "    df['Skills'] = df['Descripcion'].progress_map(lambda x: extraer_skills_descripcion(x))\n",
    "\n",
    "    df.to_csv('../datos/datos_recibidos_empresa/datos_skills_identificadas/')"
   ]
  },
  {
   "cell_type": "code",
   "execution_count": 12,
   "metadata": {},
   "outputs": [
    {
     "data": {
      "text/html": [
       "<div>\n",
       "<style scoped>\n",
       "    .dataframe tbody tr th:only-of-type {\n",
       "        vertical-align: middle;\n",
       "    }\n",
       "\n",
       "    .dataframe tbody tr th {\n",
       "        vertical-align: top;\n",
       "    }\n",
       "\n",
       "    .dataframe thead th {\n",
       "        text-align: right;\n",
       "    }\n",
       "</style>\n",
       "<table border=\"1\" class=\"dataframe\">\n",
       "  <thead>\n",
       "    <tr style=\"text-align: right;\">\n",
       "      <th></th>\n",
       "      <th>Titulo</th>\n",
       "      <th>Empresa</th>\n",
       "      <th>Ubicacion</th>\n",
       "      <th>Salario</th>\n",
       "      <th>Experiencia minima</th>\n",
       "      <th>Tipo de contrato</th>\n",
       "      <th>Estudios minimos</th>\n",
       "      <th>Skills</th>\n",
       "      <th>Descripcion</th>\n",
       "      <th>Referencia</th>\n",
       "      <th>cat_original</th>\n",
       "      <th>cat_identificada</th>\n",
       "    </tr>\n",
       "  </thead>\n",
       "  <tbody>\n",
       "    <tr>\n",
       "      <th>244</th>\n",
       "      <td>Data Engineer Junior</td>\n",
       "      <td>BETWEEN</td>\n",
       "      <td>Zaragoza, España</td>\n",
       "      <td>50.000€ - 70.000€ brutos anuales</td>\n",
       "      <td>1-2 años</td>\n",
       "      <td>Temporal, media jornada</td>\n",
       "      <td>Máster en Big Data o Ingeniería de Datos</td>\n",
       "      <td>NaN</td>\n",
       "      <td>**Data Engineer Junior en BETWEEN**\\n\\n    ¿Es...</td>\n",
       "      <td>DENG19272</td>\n",
       "      <td>Data Engineer</td>\n",
       "      <td>NaN</td>\n",
       "    </tr>\n",
       "  </tbody>\n",
       "</table>\n",
       "</div>"
      ],
      "text/plain": [
       "                   Titulo  Empresa         Ubicacion  \\\n",
       "244  Data Engineer Junior  BETWEEN  Zaragoza, España   \n",
       "\n",
       "                              Salario Experiencia minima  \\\n",
       "244  50.000€ - 70.000€ brutos anuales           1-2 años   \n",
       "\n",
       "            Tipo de contrato                          Estudios minimos  \\\n",
       "244  Temporal, media jornada  Máster en Big Data o Ingeniería de Datos   \n",
       "\n",
       "     Skills                                        Descripcion Referencia  \\\n",
       "244     NaN  **Data Engineer Junior en BETWEEN**\\n\\n    ¿Es...  DENG19272   \n",
       "\n",
       "      cat_original  cat_identificada  \n",
       "244  Data Engineer               NaN  "
      ]
     },
     "execution_count": 12,
     "metadata": {},
     "output_type": "execute_result"
    }
   ],
   "source": [
    "dic_dfs_ofertas['ofertas_data_engineer'].sample()"
   ]
  },
  {
   "cell_type": "code",
   "execution_count": null,
   "metadata": {},
   "outputs": [
    {
     "name": "stderr",
     "output_type": "stream",
     "text": [
      "100%|██████████| 2/2 [00:12<00:00,  6.00s/it]\n"
     ]
    }
   ],
   "source": []
  },
  {
   "cell_type": "code",
   "execution_count": 8,
   "metadata": {},
   "outputs": [
    {
     "data": {
      "text/html": [
       "<div>\n",
       "<style scoped>\n",
       "    .dataframe tbody tr th:only-of-type {\n",
       "        vertical-align: middle;\n",
       "    }\n",
       "\n",
       "    .dataframe tbody tr th {\n",
       "        vertical-align: top;\n",
       "    }\n",
       "\n",
       "    .dataframe thead th {\n",
       "        text-align: right;\n",
       "    }\n",
       "</style>\n",
       "<table border=\"1\" class=\"dataframe\">\n",
       "  <thead>\n",
       "    <tr style=\"text-align: right;\">\n",
       "      <th></th>\n",
       "      <th>descripciones</th>\n",
       "      <th>skills</th>\n",
       "    </tr>\n",
       "  </thead>\n",
       "  <tbody>\n",
       "    <tr>\n",
       "      <th>0</th>\n",
       "      <td>\\nEn CyberSecure Tech, buscamos un/a Data Prot...</td>\n",
       "      <td>[iso 27001, gdpr, auditoria de datos, sistemas...</td>\n",
       "    </tr>\n",
       "    <tr>\n",
       "      <th>1</th>\n",
       "      <td>\\nEn Shield Analytics, buscamos un/a Informati...</td>\n",
       "      <td>[comunicacion efectiva, gestion de riesgos, tr...</td>\n",
       "    </tr>\n",
       "  </tbody>\n",
       "</table>\n",
       "</div>"
      ],
      "text/plain": [
       "                                       descripciones  \\\n",
       "0  \\nEn CyberSecure Tech, buscamos un/a Data Prot...   \n",
       "1  \\nEn Shield Analytics, buscamos un/a Informati...   \n",
       "\n",
       "                                              skills  \n",
       "0  [iso 27001, gdpr, auditoria de datos, sistemas...  \n",
       "1  [comunicacion efectiva, gestion de riesgos, tr...  "
      ]
     },
     "execution_count": 8,
     "metadata": {},
     "output_type": "execute_result"
    }
   ],
   "source": [
    "df_descripciones_prueba"
   ]
  }
 ],
 "metadata": {
  "kernelspec": {
   "display_name": "dev",
   "language": "python",
   "name": "python3"
  },
  "language_info": {
   "codemirror_mode": {
    "name": "ipython",
    "version": 3
   },
   "file_extension": ".py",
   "mimetype": "text/x-python",
   "name": "python",
   "nbconvert_exporter": "python",
   "pygments_lexer": "ipython3",
   "version": "3.11.8"
  }
 },
 "nbformat": 4,
 "nbformat_minor": 2
}
