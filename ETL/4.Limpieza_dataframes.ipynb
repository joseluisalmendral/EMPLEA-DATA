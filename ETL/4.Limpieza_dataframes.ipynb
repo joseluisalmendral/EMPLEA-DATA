{
 "cells": [
  {
   "cell_type": "markdown",
   "metadata": {},
   "source": [
    "# Limpieza del resto de columnas\n",
    "\n",
    "### Ahora que ya tenemos las skills tecnológicas identificadas, procederemos a tratar el resto de columnas que sean necesarias para posterirmente, generar nuestros jsons e introduccirlos en nuestra base de datos.\n",
    "\n",
    "---\n",
    "---"
   ]
  },
  {
   "cell_type": "markdown",
   "metadata": {},
   "source": [
    "## Importamos Librerias y Configuraciones"
   ]
  },
  {
   "cell_type": "code",
   "execution_count": 10,
   "metadata": {},
   "outputs": [
    {
     "name": "stderr",
     "output_type": "stream",
     "text": [
      "C:\\Users\\JLFA\\AppData\\Local\\Temp\\ipykernel_21308\\847137472.py:5: DeprecationWarning: Importing display from IPython.core.display is deprecated since IPython 7.14, please import from IPython.display\n",
      "  from IPython.core.display import display, HTML\n"
     ]
    }
   ],
   "source": [
    "import os\n",
    "import pandas as pd\n",
    "import re\n",
    "from tqdm import tqdm\n",
    "from IPython.core.display import display, HTML\n",
    "from typing import List"
   ]
  },
  {
   "cell_type": "code",
   "execution_count": 11,
   "metadata": {},
   "outputs": [
    {
     "data": {
      "text/plain": [
       "dict_keys(['ofertas_data_analyst_identificada', 'ofertas_data_engineer_identificada', 'ofertas_data_scientist_identificada', 'ofertas_seguridad_privacy_data_identificada'])"
      ]
     },
     "execution_count": 11,
     "metadata": {},
     "output_type": "execute_result"
    }
   ],
   "source": [
    "# generamos nuestro diccionario con los dataframes de nuestras ofertas laborales\n",
    "\n",
    "ruta = '../datos/datos_recibidos_empresa/datos_skills_identificadas/'\n",
    "dic_dfs_ofertas = {archivo.rstrip('.csv') : pd.read_csv(f'{ruta}{archivo}') for archivo in os.listdir(ruta) if archivo.endswith('.csv')}\n",
    "\n",
    "dic_dfs_ofertas.keys()"
   ]
  },
  {
   "cell_type": "markdown",
   "metadata": {},
   "source": [
    "## Detectamos elementos que queramos corregir de nuestros datos\n",
    "#### vamos a coger un dataframe de ejemplo ya que todos ellos tienen las mismas columnas"
   ]
  },
  {
   "cell_type": "code",
   "execution_count": 12,
   "metadata": {},
   "outputs": [
    {
     "data": {
      "text/html": [
       "<div>\n",
       "<style scoped>\n",
       "    .dataframe tbody tr th:only-of-type {\n",
       "        vertical-align: middle;\n",
       "    }\n",
       "\n",
       "    .dataframe tbody tr th {\n",
       "        vertical-align: top;\n",
       "    }\n",
       "\n",
       "    .dataframe thead th {\n",
       "        text-align: right;\n",
       "    }\n",
       "</style>\n",
       "<table border=\"1\" class=\"dataframe\">\n",
       "  <thead>\n",
       "    <tr style=\"text-align: right;\">\n",
       "      <th></th>\n",
       "      <th>Titulo</th>\n",
       "      <th>Empresa</th>\n",
       "      <th>Ubicacion</th>\n",
       "      <th>Salario</th>\n",
       "      <th>Experiencia minima</th>\n",
       "      <th>Tipo de contrato</th>\n",
       "      <th>Estudios minimos</th>\n",
       "      <th>Skills</th>\n",
       "      <th>Descripcion</th>\n",
       "      <th>Referencia</th>\n",
       "      <th>cat_original</th>\n",
       "      <th>cat_identificada</th>\n",
       "    </tr>\n",
       "  </thead>\n",
       "  <tbody>\n",
       "    <tr>\n",
       "      <th>298</th>\n",
       "      <td>Cloud Data Engineer</td>\n",
       "      <td>EOS Solutions</td>\n",
       "      <td>Málaga, España</td>\n",
       "      <td>35.000€ - 45.000€ brutos anuales</td>\n",
       "      <td>Al menos 5 años</td>\n",
       "      <td>Indefinido, jornada completa</td>\n",
       "      <td>Curso especializado en Big Data</td>\n",
       "      <td>['apache kafka', 'airflow', 'nosql']</td>\n",
       "      <td>**Cloud Data Engineer en EOS Solutions**\\n\\n  ...</td>\n",
       "      <td>DENG18296</td>\n",
       "      <td>Data Engineer</td>\n",
       "      <td>NaN</td>\n",
       "    </tr>\n",
       "    <tr>\n",
       "      <th>267</th>\n",
       "      <td>Data Architect</td>\n",
       "      <td>Gi Group</td>\n",
       "      <td>Madrid, España</td>\n",
       "      <td>Salario no disponible</td>\n",
       "      <td>Sin experiencia</td>\n",
       "      <td>Indefinido, jornada parcial</td>\n",
       "      <td>Grado en Informática, Matemáticas o similar</td>\n",
       "      <td>['python', 'sql', 'apachespark', 'hadoop', 'aws']</td>\n",
       "      <td>**Data Architect en Gi Group**\\n\\n    ¿Estás l...</td>\n",
       "      <td>BDENG91064</td>\n",
       "      <td>Data Engineer</td>\n",
       "      <td>NaN</td>\n",
       "    </tr>\n",
       "    <tr>\n",
       "      <th>206</th>\n",
       "      <td>Cloud Data Engineer</td>\n",
       "      <td>BETWEEN</td>\n",
       "      <td>Alicante, España</td>\n",
       "      <td>35.000€ - 45.000€ brutos anuales</td>\n",
       "      <td>Sin experiencia</td>\n",
       "      <td>Contrato por proyecto, freelance</td>\n",
       "      <td>FP en Desarrollo de Aplicaciones Multiplataforma</td>\n",
       "      <td>['apache kafka', 'airflow', 'nosql']</td>\n",
       "      <td>**Cloud Data Engineer en BETWEEN**\\n\\n    ¿Est...</td>\n",
       "      <td>BDENG91165</td>\n",
       "      <td>Data Engineer</td>\n",
       "      <td>NaN</td>\n",
       "    </tr>\n",
       "  </tbody>\n",
       "</table>\n",
       "</div>"
      ],
      "text/plain": [
       "                  Titulo        Empresa         Ubicacion  \\\n",
       "298  Cloud Data Engineer  EOS Solutions    Málaga, España   \n",
       "267       Data Architect       Gi Group    Madrid, España   \n",
       "206  Cloud Data Engineer        BETWEEN  Alicante, España   \n",
       "\n",
       "                              Salario Experiencia minima  \\\n",
       "298  35.000€ - 45.000€ brutos anuales    Al menos 5 años   \n",
       "267             Salario no disponible    Sin experiencia   \n",
       "206  35.000€ - 45.000€ brutos anuales    Sin experiencia   \n",
       "\n",
       "                     Tipo de contrato  \\\n",
       "298      Indefinido, jornada completa   \n",
       "267       Indefinido, jornada parcial   \n",
       "206  Contrato por proyecto, freelance   \n",
       "\n",
       "                                     Estudios minimos  \\\n",
       "298                   Curso especializado en Big Data   \n",
       "267       Grado en Informática, Matemáticas o similar   \n",
       "206  FP en Desarrollo de Aplicaciones Multiplataforma   \n",
       "\n",
       "                                                Skills  \\\n",
       "298               ['apache kafka', 'airflow', 'nosql']   \n",
       "267  ['python', 'sql', 'apachespark', 'hadoop', 'aws']   \n",
       "206               ['apache kafka', 'airflow', 'nosql']   \n",
       "\n",
       "                                           Descripcion  Referencia  \\\n",
       "298  **Cloud Data Engineer en EOS Solutions**\\n\\n  ...   DENG18296   \n",
       "267  **Data Architect en Gi Group**\\n\\n    ¿Estás l...  BDENG91064   \n",
       "206  **Cloud Data Engineer en BETWEEN**\\n\\n    ¿Est...  BDENG91165   \n",
       "\n",
       "      cat_original  cat_identificada  \n",
       "298  Data Engineer               NaN  \n",
       "267  Data Engineer               NaN  \n",
       "206  Data Engineer               NaN  "
      ]
     },
     "execution_count": 12,
     "metadata": {},
     "output_type": "execute_result"
    }
   ],
   "source": [
    "df_prueba = dic_dfs_ofertas['ofertas_data_engineer_identificada']\n",
    "\n",
    "df_prueba.sample(3)"
   ]
  },
  {
   "cell_type": "markdown",
   "metadata": {},
   "source": [
    "#### Elementos detectados para tratar:\n",
    "<ul>\n",
    "    <li><strong>Salario</strong></li>\n",
    "        <ul>\n",
    "            <li>Eliminar €</li>\n",
    "            <li>Quedarnos con solos los numeros</li>\n",
    "            <li>Crear lista con la banda salarial o un unico valor en caso de ser solo un numero</li>\n",
    "        </ul>\n",
    "    <li><strong>Estudios minimos</strong></li>\n",
    "        <ul>\n",
    "            <li>Separar por ',' y crear una lista</li>\n",
    "        </ul>\n",
    "    <li><strong>Descripcion</strong></li>\n",
    "        <ul>\n",
    "            <li>Eliminar el caracter '*'</li>\n",
    "        </ul>\n",
    "</ul>\n",
    "\n",
    "(hay otros tratamientos como los años de experiencia y demás que los dejaremos como 'Next Steps' debido a que ahora no los utilizaremos para filtrar ni nada, son solo datos informativos)"
   ]
  },
  {
   "cell_type": "markdown",
   "metadata": {},
   "source": [
    "#### Tratamiento columna `Salario`"
   ]
  },
  {
   "cell_type": "code",
   "execution_count": 13,
   "metadata": {},
   "outputs": [],
   "source": [
    "# # utilizamos regex para quedarnos solo con los numeros y mediante un ternario, creamos una lista con el valor 'No Disponible' en caso de que proceda\n",
    "# df_prueba['Salario'] = df_prueba['Salario'].map(lambda x : re.findall(r'\\d+(?:\\.\\d+)?', x) if x != 'Salario no disponible' else ['No Dispobible'])\n",
    "\n",
    "# display(HTML(\"<h2 style='color: orange'>Así quedaría ahora nuestra columna <u>Salario</u></h2>\"))\n",
    "# df_prueba.sample(3)"
   ]
  },
  {
   "cell_type": "markdown",
   "metadata": {},
   "source": [
    "#### Tratamiento columna `Estudios minimos`"
   ]
  },
  {
   "cell_type": "code",
   "execution_count": 14,
   "metadata": {},
   "outputs": [],
   "source": [
    "# df_prueba['Estudios minimos'] = df_prueba['Estudios minimos'].map(lambda x : x.split(',') if x != None else ['Desconocidos'])\n",
    "\n",
    "# display(HTML(\"<h2 style='color: orange'>Así quedaría ahora nuestra columna <u>Estudios minimos</u></h2>\"))\n",
    "# df_prueba.sample(3)"
   ]
  },
  {
   "cell_type": "markdown",
   "metadata": {},
   "source": [
    "#### Tratamiento columna `Descripcion`"
   ]
  },
  {
   "cell_type": "code",
   "execution_count": 15,
   "metadata": {},
   "outputs": [],
   "source": [
    "# df_prueba['Descripcion'] = df_prueba['Descripcion'].map(lambda x : x.replace('*','') if x != None else None)\n",
    "\n",
    "# display(HTML(\"<h2 style='color: orange'>Así quedaría ahora nuestra columna <u>Descripcion</u></h2>\"))\n",
    "# df_prueba.sample(3)"
   ]
  },
  {
   "cell_type": "markdown",
   "metadata": {},
   "source": [
    "## Realizamos proceso de limpieza\n",
    "\n",
    "#### Ahora que hemos visto que cubrimos los casos que nos interesaban de forma adecuada, creamos la funcion de limpieza"
   ]
  },
  {
   "cell_type": "code",
   "execution_count": 16,
   "metadata": {},
   "outputs": [],
   "source": [
    "\n",
    "\n",
    "def limpiar_formato_dfs(dict_dfs: List[pd.DataFrame]):\n",
    "\n",
    "    resultado = {}\n",
    "    for key, value in tqdm(dict_dfs.copy().items(), desc=\"Limpiando Dfs: \"):\n",
    "\n",
    "        value['Salario'] = value['Salario'].map(lambda x : re.findall(r'\\d+(?:\\.\\d+)?', x) if isinstance(x, str) and x != 'Salario no disponible' else ['No Dispobible'])\n",
    "        value['Estudios minimos'] = value['Estudios minimos'].map(lambda x : x.split(',') if x != None else ['Desconocidos'])\n",
    "        value['Descripcion'] = value['Descripcion'].map(lambda x : x.replace('*','') if x != None else None)\n",
    "\n",
    "        resultado[key] = value\n",
    "\n",
    "    return resultado"
   ]
  },
  {
   "cell_type": "code",
   "execution_count": 17,
   "metadata": {},
   "outputs": [
    {
     "name": "stderr",
     "output_type": "stream",
     "text": [
      "Limpiando Dfs: 100%|██████████| 4/4 [00:00<00:00, 269.66it/s]\n"
     ]
    }
   ],
   "source": [
    "dfs_limpios = limpiar_formato_dfs(dic_dfs_ofertas)"
   ]
  },
  {
   "cell_type": "markdown",
   "metadata": {},
   "source": [
    "## Guardamos los DFs procesados"
   ]
  },
  {
   "cell_type": "code",
   "execution_count": 18,
   "metadata": {},
   "outputs": [],
   "source": [
    "for key, value in dfs_limpios.items():\n",
    "    nombre = key.replace('_identificada','_tratadas')\n",
    "    value.to_csv(f'../datos/datos_recibidos_empresa/datos_skills_identificadas/tratados/{nombre}.csv', index=False)"
   ]
  }
 ],
 "metadata": {
  "kernelspec": {
   "display_name": "dev",
   "language": "python",
   "name": "python3"
  },
  "language_info": {
   "codemirror_mode": {
    "name": "ipython",
    "version": 3
   },
   "file_extension": ".py",
   "mimetype": "text/x-python",
   "name": "python",
   "nbconvert_exporter": "python",
   "pygments_lexer": "ipython3",
   "version": "3.11.8"
  }
 },
 "nbformat": 4,
 "nbformat_minor": 2
}
