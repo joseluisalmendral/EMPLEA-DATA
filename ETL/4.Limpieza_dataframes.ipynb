{
 "cells": [
  {
   "cell_type": "markdown",
   "metadata": {},
   "source": [
    "# Limpieza del resto de columnas\n",
    "\n",
    "### Ahora que ya tenemos las skills tecnológicas identificadas, procederemos a tratar el resto de columnas que sean necesarias para posterirmente, generar nuestros jsons e introduccirlos en nuestra base de datos.\n",
    "\n",
    "---\n",
    "---"
   ]
  },
  {
   "cell_type": "markdown",
   "metadata": {},
   "source": [
    "## Importamos Librerias y Configuraciones"
   ]
  },
  {
   "cell_type": "code",
   "execution_count": 20,
   "metadata": {},
   "outputs": [
    {
     "name": "stderr",
     "output_type": "stream",
     "text": [
      "C:\\Users\\JLFA\\AppData\\Local\\Temp\\ipykernel_10932\\847137472.py:5: DeprecationWarning: Importing display from IPython.core.display is deprecated since IPython 7.14, please import from IPython.display\n",
      "  from IPython.core.display import display, HTML\n"
     ]
    }
   ],
   "source": [
    "import os\n",
    "import pandas as pd\n",
    "import re\n",
    "from tqdm import tqdm\n",
    "from IPython.core.display import display, HTML\n",
    "from typing import List"
   ]
  },
  {
   "cell_type": "code",
   "execution_count": 21,
   "metadata": {},
   "outputs": [
    {
     "data": {
      "text/plain": [
       "dict_keys(['ofertas_data_analyst_identificada', 'ofertas_data_engineer_identificada', 'ofertas_data_scientist_identificada', 'ofertas_seguridad_privacy_data_identificada'])"
      ]
     },
     "execution_count": 21,
     "metadata": {},
     "output_type": "execute_result"
    }
   ],
   "source": [
    "# generamos nuestro diccionario con los dataframes de nuestras ofertas laborales\n",
    "\n",
    "ruta = '../datos/datos_recibidos_empresa/datos_skills_identificadas/'\n",
    "dic_dfs_ofertas = {archivo.rstrip('.csv') : pd.read_csv(f'{ruta}{archivo}') for archivo in os.listdir(ruta) if archivo.endswith('.csv')}\n",
    "\n",
    "dic_dfs_ofertas.keys()"
   ]
  },
  {
   "cell_type": "markdown",
   "metadata": {},
   "source": [
    "## Detectamos elementos que queramos corregir de nuestros datos\n",
    "#### vamos a coger un dataframe de ejemplo ya que todos ellos tienen las mismas columnas"
   ]
  },
  {
   "cell_type": "code",
   "execution_count": 22,
   "metadata": {},
   "outputs": [
    {
     "data": {
      "text/html": [
       "<div>\n",
       "<style scoped>\n",
       "    .dataframe tbody tr th:only-of-type {\n",
       "        vertical-align: middle;\n",
       "    }\n",
       "\n",
       "    .dataframe tbody tr th {\n",
       "        vertical-align: top;\n",
       "    }\n",
       "\n",
       "    .dataframe thead th {\n",
       "        text-align: right;\n",
       "    }\n",
       "</style>\n",
       "<table border=\"1\" class=\"dataframe\">\n",
       "  <thead>\n",
       "    <tr style=\"text-align: right;\">\n",
       "      <th></th>\n",
       "      <th>Titulo</th>\n",
       "      <th>Empresa</th>\n",
       "      <th>Ubicacion</th>\n",
       "      <th>Salario</th>\n",
       "      <th>Experiencia minima</th>\n",
       "      <th>Tipo de contrato</th>\n",
       "      <th>Estudios minimos</th>\n",
       "      <th>Skills</th>\n",
       "      <th>Descripcion</th>\n",
       "      <th>Referencia</th>\n",
       "      <th>cat_original</th>\n",
       "      <th>cat_identificada</th>\n",
       "    </tr>\n",
       "  </thead>\n",
       "  <tbody>\n",
       "    <tr>\n",
       "      <th>109</th>\n",
       "      <td>ETL Developer</td>\n",
       "      <td>Keapps</td>\n",
       "      <td>Madrid, España</td>\n",
       "      <td>35.000€ - 45.000€ brutos anuales</td>\n",
       "      <td>Al menos 5 años</td>\n",
       "      <td>Temporal, media jornada</td>\n",
       "      <td>Máster en Big Data o Ingeniería de Datos</td>\n",
       "      <td>['aws', 'gcp', 'azure', 'docker', 'kubernetes']</td>\n",
       "      <td>**ETL Developer en Keapps**\\n\\n    Únete a Kea...</td>\n",
       "      <td>DENG76131</td>\n",
       "      <td>Data Engineer</td>\n",
       "      <td>NaN</td>\n",
       "    </tr>\n",
       "    <tr>\n",
       "      <th>121</th>\n",
       "      <td>Cloud Data Engineer</td>\n",
       "      <td>Boycor</td>\n",
       "      <td>Barcelona, España</td>\n",
       "      <td>30.000€ - 40.000€ brutos anuales</td>\n",
       "      <td>Al menos 5 años</td>\n",
       "      <td>Temporal, jornada completa</td>\n",
       "      <td>Máster en Big Data o Ingeniería de Datos</td>\n",
       "      <td>['big data tools', 'data lakes', 'data warehou...</td>\n",
       "      <td>**Cloud Data Engineer en Boycor**\\n\\n    Únete...</td>\n",
       "      <td>DENG47416</td>\n",
       "      <td>Data Engineer</td>\n",
       "      <td>NaN</td>\n",
       "    </tr>\n",
       "    <tr>\n",
       "      <th>341</th>\n",
       "      <td>ETL Developer</td>\n",
       "      <td>Keapps</td>\n",
       "      <td>Granada, España</td>\n",
       "      <td>50.000€ - 70.000€ brutos anuales</td>\n",
       "      <td>Sin experiencia</td>\n",
       "      <td>Temporal, jornada completa</td>\n",
       "      <td>Curso especializado en Big Data</td>\n",
       "      <td>['big data tools', 'data lakes', 'data warehou...</td>\n",
       "      <td>**ETL Developer en Keapps**\\n\\n    Keapps está...</td>\n",
       "      <td>DENG45169</td>\n",
       "      <td>Data Engineer</td>\n",
       "      <td>NaN</td>\n",
       "    </tr>\n",
       "  </tbody>\n",
       "</table>\n",
       "</div>"
      ],
      "text/plain": [
       "                  Titulo Empresa          Ubicacion  \\\n",
       "109        ETL Developer  Keapps     Madrid, España   \n",
       "121  Cloud Data Engineer  Boycor  Barcelona, España   \n",
       "341        ETL Developer  Keapps    Granada, España   \n",
       "\n",
       "                              Salario Experiencia minima  \\\n",
       "109  35.000€ - 45.000€ brutos anuales    Al menos 5 años   \n",
       "121  30.000€ - 40.000€ brutos anuales    Al menos 5 años   \n",
       "341  50.000€ - 70.000€ brutos anuales    Sin experiencia   \n",
       "\n",
       "               Tipo de contrato                          Estudios minimos  \\\n",
       "109     Temporal, media jornada  Máster en Big Data o Ingeniería de Datos   \n",
       "121  Temporal, jornada completa  Máster en Big Data o Ingeniería de Datos   \n",
       "341  Temporal, jornada completa           Curso especializado en Big Data   \n",
       "\n",
       "                                                Skills  \\\n",
       "109    ['aws', 'gcp', 'azure', 'docker', 'kubernetes']   \n",
       "121  ['big data tools', 'data lakes', 'data warehou...   \n",
       "341  ['big data tools', 'data lakes', 'data warehou...   \n",
       "\n",
       "                                           Descripcion Referencia  \\\n",
       "109  **ETL Developer en Keapps**\\n\\n    Únete a Kea...  DENG76131   \n",
       "121  **Cloud Data Engineer en Boycor**\\n\\n    Únete...  DENG47416   \n",
       "341  **ETL Developer en Keapps**\\n\\n    Keapps está...  DENG45169   \n",
       "\n",
       "      cat_original  cat_identificada  \n",
       "109  Data Engineer               NaN  \n",
       "121  Data Engineer               NaN  \n",
       "341  Data Engineer               NaN  "
      ]
     },
     "execution_count": 22,
     "metadata": {},
     "output_type": "execute_result"
    }
   ],
   "source": [
    "df_prueba = dic_dfs_ofertas['ofertas_data_engineer_identificada']\n",
    "\n",
    "df_prueba.sample(3)"
   ]
  },
  {
   "cell_type": "markdown",
   "metadata": {},
   "source": [
    "#### Elementos detectados para tratar:\n",
    "<ul>\n",
    "    <li><strong>Salario</strong></li>\n",
    "        <ul>\n",
    "            <li>Eliminar €</li>\n",
    "            <li>Quedarnos con solos los numeros</li>\n",
    "            <li>Crear lista con la banda salarial o un unico valor en caso de ser solo un numero</li>\n",
    "        </ul>\n",
    "    <li><strong>Estudios minimos</strong></li>\n",
    "        <ul>\n",
    "            <li>Separar por ',' y crear una lista</li>\n",
    "        </ul>\n",
    "    <li><strong>Descripcion</strong></li>\n",
    "        <ul>\n",
    "            <li>Eliminar el caracter '*'</li>\n",
    "        </ul>\n",
    "</ul>\n",
    "\n",
    "(hay otros tratamientos como los años de experiencia y demás que los dejaremos como 'Next Steps' debido a que ahora no los utilizaremos para filtrar ni nada, son solo datos informativos)"
   ]
  },
  {
   "cell_type": "markdown",
   "metadata": {},
   "source": [
    "#### Tratamiento columna `Salario`"
   ]
  },
  {
   "cell_type": "code",
   "execution_count": 23,
   "metadata": {},
   "outputs": [],
   "source": [
    "# # utilizamos regex para quedarnos solo con los numeros y mediante un ternario, creamos una lista con el valor 'No Disponible' en caso de que proceda\n",
    "# df_prueba['Salario'] = df_prueba['Salario'].map(lambda x : re.findall(r'\\d+(?:\\.\\d+)?', x) if x != 'Salario no disponible' else ['No Dispobible'])\n",
    "\n",
    "# display(HTML(\"<h2 style='color: orange'>Así quedaría ahora nuestra columna <u>Salario</u></h2>\"))\n",
    "# df_prueba.sample(3)"
   ]
  },
  {
   "cell_type": "markdown",
   "metadata": {},
   "source": [
    "#### Tratamiento columna `Estudios minimos`"
   ]
  },
  {
   "cell_type": "code",
   "execution_count": 24,
   "metadata": {},
   "outputs": [],
   "source": [
    "# df_prueba['Estudios minimos'] = df_prueba['Estudios minimos'].map(lambda x : x.split(',') if x != None else ['Desconocidos'])\n",
    "\n",
    "# display(HTML(\"<h2 style='color: orange'>Así quedaría ahora nuestra columna <u>Estudios minimos</u></h2>\"))\n",
    "# df_prueba.sample(3)"
   ]
  },
  {
   "cell_type": "markdown",
   "metadata": {},
   "source": [
    "#### Tratamiento columna `Descripcion`"
   ]
  },
  {
   "cell_type": "code",
   "execution_count": 25,
   "metadata": {},
   "outputs": [],
   "source": [
    "# df_prueba['Descripcion'] = df_prueba['Descripcion'].map(lambda x : x.replace('*','') if x != None else None)\n",
    "\n",
    "# display(HTML(\"<h2 style='color: orange'>Así quedaría ahora nuestra columna <u>Descripcion</u></h2>\"))\n",
    "# df_prueba.sample(3)"
   ]
  },
  {
   "cell_type": "markdown",
   "metadata": {},
   "source": [
    "## Realizamos proceso de limpieza\n",
    "\n",
    "#### Ahora que hemos visto que cubrimos los casos que nos interesaban de forma adecuada, creamos la funcion de limpieza"
   ]
  },
  {
   "cell_type": "code",
   "execution_count": 26,
   "metadata": {},
   "outputs": [],
   "source": [
    "\n",
    "\n",
    "def limpiar_formato_dfs(dict_dfs: List[pd.DataFrame]):\n",
    "\n",
    "    resultado = {}\n",
    "    for key, value in tqdm(dict_dfs.copy().items(), desc=\"Limpiando Dfs: \"):\n",
    "\n",
    "        value['Salario'] = value['Salario'].map(lambda x : re.findall(r'\\d+(?:\\.\\d+)?', x) if isinstance(x, str) and x != 'Salario no disponible' else ['No Dispobible'])\n",
    "        value['Estudios minimos'] = value['Estudios minimos'].map(lambda x : x.split(',') if x != None else ['Desconocidos'])\n",
    "        value['Descripcion'] = value['Descripcion'].map(lambda x : x.replace('*','') if x != None else None)\n",
    "\n",
    "        resultado[key] = value\n",
    "\n",
    "    return resultado"
   ]
  },
  {
   "cell_type": "code",
   "execution_count": 27,
   "metadata": {},
   "outputs": [
    {
     "name": "stderr",
     "output_type": "stream",
     "text": [
      "Limpiando Dfs: 100%|██████████| 4/4 [00:00<00:00, 173.92it/s]\n"
     ]
    }
   ],
   "source": [
    "dfs_limpios = limpiar_formato_dfs(dic_dfs_ofertas)"
   ]
  },
  {
   "cell_type": "markdown",
   "metadata": {},
   "source": [
    "## Guardamos los DFs procesados"
   ]
  },
  {
   "cell_type": "code",
   "execution_count": 28,
   "metadata": {},
   "outputs": [],
   "source": [
    "for key, value in dfs_limpios.items():\n",
    "    nombre = key.replace('_identificada','_trgit atadas')\n",
    "    value.to_csv(f'../datos/datos_recibidos_empresa/datos_skills_identificadas/tratados/{nombre}.csv')"
   ]
  }
 ],
 "metadata": {
  "kernelspec": {
   "display_name": "dev",
   "language": "python",
   "name": "python3"
  },
  "language_info": {
   "codemirror_mode": {
    "name": "ipython",
    "version": 3
   },
   "file_extension": ".py",
   "mimetype": "text/x-python",
   "name": "python",
   "nbconvert_exporter": "python",
   "pygments_lexer": "ipython3",
   "version": "3.11.8"
  }
 },
 "nbformat": 4,
 "nbformat_minor": 2
}
