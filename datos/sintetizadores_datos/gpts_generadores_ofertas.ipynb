{
 "cells": [
  {
   "cell_type": "markdown",
   "metadata": {},
   "source": [
    "# GPTS GENERADORES DE OFERTAS LABORALES\n",
    "---\n",
    "---\n",
    "\n",
    "## Instrucciones\n",
    "\n",
    "1. Pedir al primer gpt que genere el .csv que quieres (el primer archivo, el segundo,etc)\n",
    "\n",
    "2. Proporcionar al gpt generador de descripciones el .csv generado por el anterior gpt para que termine de completar el .csv con descripciones más eleboradas y humanas.\n",
    "\n",
    "---\n",
    "---\n",
    "\n",
    "## Lista GPTs:\n",
    "### Data Scientist\n",
    "- [Generador .csv](https://chatgpt.com/g/g-677ffaa89be481918a410262c54eef23-generador-ofertas-infojobs-data-scientist)\n",
    "\n",
    "- [Generador Descripciones formato Bullets Points](https://chatgpt.com/g/g-67810dd60edc8191a41376647e2a9a21-gen-descrip-ofertas-bullets-data-science)\n",
    "\n",
    "- [Generador Descripciones formato Texto Natural](https://chatgpt.com/g/g-6785445fb80c8191a2f6fdba47a2ac9e-gen-descrip-ofertas-text-data-science)\n",
    "\n",
    "### Data Engineer\n",
    "- [Generador .csv](https://chatgpt.com/g/g-6786a68246248191b26624ef94465676-generador-ofertas-infojobs-data-engineer)\n",
    "\n",
    "- [Generador Descripciones formato Bullets Points](https://chatgpt.com/g/g-6786b703d54081919d4c08ed4aa9decd-gen-desc-bullets-data-engineer)\n",
    "\n",
    "### Data Analyst\n",
    "- [Generador .csv](https://chatgpt.com/g/g-6786b93fb3488191a26bce354cdba36f-generador-ofertas-infojobs-data-analyst)\n",
    "\n",
    "- [Generador Descripciones formato Texto Natural](https://chatgpt.com/g/g-6787967bb54c8191a18e1670353c299f-gen-descrip-ofertas-text-data-analyst)\n",
    "\n",
    "### Seguridad & Privacidad Data\n",
    "- [Generador .csv](https://chatgpt.com/g/g-6787c0a025ec81919578dab5ce5df7fe-generador-ofertas-infojobs-seguridad-data)\n",
    "\n",
    "- [Generador Descripciones formato Bullets Points](https://chatgpt.com/g/g-6787c7ef9aec81918f5b4751dd587f4e-gen-desc-bullets-data-security-privacy)\n"
   ]
  }
 ],
 "metadata": {
  "language_info": {
   "name": "python"
  }
 },
 "nbformat": 4,
 "nbformat_minor": 2
}
