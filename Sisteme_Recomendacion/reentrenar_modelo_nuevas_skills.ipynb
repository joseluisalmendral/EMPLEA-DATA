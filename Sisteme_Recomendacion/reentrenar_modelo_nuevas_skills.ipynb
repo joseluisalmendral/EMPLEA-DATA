{
 "cells": [
  {
   "cell_type": "code",
   "execution_count": null,
   "metadata": {},
   "outputs": [],
   "source": [
    "# Reentrenar y actualizar el vectorizador\n",
    "cursor = collection.find({}, {\"Skills\": 1, \"_id\": 0})\n",
    "all_skills = [\" \".join(doc[\"Skills\"]).lower() for doc in cursor]\n",
    "\n",
    "# Reentrenar TF-IDF con nuevas skills\n",
    "vectorizer = TfidfVectorizer(lowercase=True)\n",
    "tfidf_matrix = vectorizer.fit_transform(all_skills)\n",
    "\n",
    "# Guardar el nuevo vectorizador\n",
    "with open(\"tfidf_vectorizer.pkl\", \"wb\") as f:\n",
    "    pickle.dump(vectorizer, f)\n",
    "\n",
    "# Revectorizar y actualizar MongoDB\n",
    "for offer in collection.find():\n",
    "    offer_vector = vectorize_skills(offer[\"Skills\"], vectorizer)\n",
    "    collection.update_one({\"_id\": offer[\"_id\"]}, {\"$set\": {\"vector_skills\": offer_vector}})\n",
    "\n",
    "print(\"Vectorizador actualizado con nuevas skills y base de datos revectorizada.\")"
   ]
  }
 ],
 "metadata": {
  "kernelspec": {
   "display_name": "dev",
   "language": "python",
   "name": "python3"
  },
  "language_info": {
   "name": "python",
   "version": "3.11.8"
  }
 },
 "nbformat": 4,
 "nbformat_minor": 2
}
