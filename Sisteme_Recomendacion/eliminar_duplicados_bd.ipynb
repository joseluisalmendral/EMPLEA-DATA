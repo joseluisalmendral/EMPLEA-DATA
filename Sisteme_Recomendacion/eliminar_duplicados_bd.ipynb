{
 "cells": [
  {
   "cell_type": "code",
   "execution_count": null,
   "metadata": {},
   "outputs": [],
   "source": [
    "# Pipeline para encontrar duplicados basados en \"Descripcion\" y \"Skills\"\n",
    "pipeline = [\n",
    "    {\n",
    "        \"$group\": {\n",
    "            \"_id\": {\"Descripcion\": \"$Descripcion\", \"Skills\": \"$Skills\"},\n",
    "            \"count\": {\"$sum\": 1},\n",
    "            \"ids\": {\"$push\": \"$_id\"}  # Lista de IDs duplicados\n",
    "        }\n",
    "    },\n",
    "    {\n",
    "        \"$match\": {\"count\": {\"$gt\": 1}}  # Filtrar solo los duplicados\n",
    "    }\n",
    "]\n",
    "\n",
    "# Obtener duplicados\n",
    "duplicates = list(coleccion.aggregate(pipeline))\n",
    "\n",
    "# Eliminar duplicados dejando solo uno\n",
    "for duplicate in duplicates:\n",
    "    ids_to_delete = duplicate[\"ids\"][1:]  # Mantener el primer ID, eliminar los demás\n",
    "    coleccion.delete_many({\"_id\": {\"$in\": ids_to_delete}})  # Eliminar duplicados\n",
    "    print(f\"Eliminados {len(ids_to_delete)} duplicados de {duplicate['_id']}\")\n",
    "\n",
    "print(\"Proceso de eliminación de duplicados finalizado.\")\n"
   ]
  }
 ],
 "metadata": {
  "kernelspec": {
   "display_name": "dev",
   "language": "python",
   "name": "python3"
  },
  "language_info": {
   "name": "python",
   "version": "3.11.8"
  }
 },
 "nbformat": 4,
 "nbformat_minor": 2
}
