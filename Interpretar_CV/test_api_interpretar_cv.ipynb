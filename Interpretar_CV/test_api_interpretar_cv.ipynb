{
 "cells": [
  {
   "cell_type": "code",
   "execution_count": 9,
   "metadata": {},
   "outputs": [],
   "source": [
    "import requests\n",
    "\n",
    "# 🚀 Cambia esta URL a la de tu API en Render cuando esté desplegada\n",
    "BASE_URL = \"https://cv-interpreter2.onrender.com\"  # O \"https://<tu-api>.onrender.com\"\n",
    "\n",
    "def test_base_route():\n",
    "    \"\"\"Prueba la ruta base '/'\"\"\"\n",
    "    print(\"\\n🔹 Testeando ruta base '/' ...\")\n",
    "    response = requests.get(BASE_URL)\n",
    "    if response.status_code == 200:\n",
    "        print(\"✅ Ruta base funcionando:\", response.json())\n",
    "    else:\n",
    "        print(\"❌ Error en la ruta base:\", response.status_code, response.text)\n",
    "\n",
    "def test_check_poppler():\n",
    "    \"\"\"Prueba si Poppler está instalado\"\"\"\n",
    "    print(\"\\n🔹 Testeando ruta '/check_poppler/' ...\")\n",
    "    response = requests.get(f\"{BASE_URL}/check_poppler/\")\n",
    "    if response.status_code == 200:\n",
    "        print(\"✅ Poppler instalado:\", response.json())\n",
    "    else:\n",
    "        print(\"❌ Error en check_poppler:\", response.status_code, response.text)\n",
    "\n",
    "def test_process_cv(file_path):\n",
    "    \"\"\"Prueba la ruta '/process_cv/' subiendo un archivo PDF o imagen\"\"\"\n",
    "    print(\"\\n🔹 Testeando ruta '/process_cv/' con archivo:\", file_path)\n",
    "    with open(file_path, \"rb\") as file:\n",
    "        response = requests.post(\n",
    "            f\"{BASE_URL}/process_cv/\",\n",
    "            files={\"file\": file}\n",
    "        )\n",
    "        if response.status_code == 200:\n",
    "            print(\"✅ CV procesado con éxito:\", response.json())\n",
    "        else:\n",
    "            print(\"❌ Error al procesar el CV:\", response.status_code, response.text)"
   ]
  },
  {
   "cell_type": "code",
   "execution_count": 10,
   "metadata": {},
   "outputs": [
    {
     "name": "stdout",
     "output_type": "stream",
     "text": [
      "\n",
      "🔹 Testeando ruta base '/' ...\n",
      "✅ Ruta base funcionando: {'message': 'Esto funciona'}\n"
     ]
    }
   ],
   "source": [
    "test_base_route()"
   ]
  },
  {
   "cell_type": "code",
   "execution_count": 11,
   "metadata": {},
   "outputs": [
    {
     "name": "stdout",
     "output_type": "stream",
     "text": [
      "\n",
      "🔹 Testeando ruta '/check_poppler/' ...\n",
      "✅ Poppler instalado: {'message': 'Poppler está instalado y disponible'}\n"
     ]
    }
   ],
   "source": [
    "test_check_poppler()"
   ]
  },
  {
   "cell_type": "code",
   "execution_count": 12,
   "metadata": {},
   "outputs": [
    {
     "name": "stdout",
     "output_type": "stream",
     "text": [
      "\n",
      "🔹 Testeando ruta '/process_cv/' con archivo: cvs_ejemplo/CV _Javier_Carreira.pdf\n",
      "✅ CV procesado con éxito: {'filename': 'CV _Javier_Carreira.pdf', 'extracted_text': \"Javier Carreira\\n\\njav.racec@gmail.com\\nMadrid, Spain\\n+34 61178 58 29\\n\\nlinkedin.com/in/javier-carreira-c\\ngithub.com/Supernovala\\n\\nDATA SCIENTIST\\n\\nData & Al professional with extensive experience in education and the application of generative Al. Skilled in\\nprogram development, content management, and equipped with strong communication abilities. Passionate\\nabout data science, Al development and astrophysics, and prepared to deliver impactful Data & Al strategies\\n\\nto drive client success.\\n\\nKEY COMPETENCIES\\n\\n¢ Data Science: Python | R| Git | SQL | NoSQL | Data Visualization | Machine Learning | LaTeX\\n¢ Gen Al models: OpenAl | Claude | Gemini | Midjourney | RunwayML | Flux\\n\\nPROFESSIONAL EXPERIENCE\\n\\nThePower Education\\nAl and Data Instructor\\n\\nFeb 2024 - Oct 2024\\n\\ne Led content design for Power IA, training over 3,000 students in generative Al.\\n¢ Created training materials for Microsoft Al-900, covering core Al concepts in Azure.\\n¢ Maintained student satisfaction ratings above 9/10 and an NPS over 60.\\n\\nThePower Eduaction\\nProduct Manager\\n\\nOct 2023 - Oct 2024\\n\\ne Led the creation and rollout of generative Al educational content.\\n¢ Simplified complex concepts for large audiences and developed effective learning pathways.\\n\\nAcademia Osorio\\nHead Teacher\\n\\nJan 2022 - Oct 2023\\n\\n¢ Taught Mathematics, Physics, and Chemistry, preparing students for Spain’s EvAU university exam.\\ne Led group classes of up to 12 students, tailoring lessons to individual needs.\\ne¢ Managed up to 15 groups annually, boosting students' academic performance and confidence.\\n\\nEDUCATION\\n\\nHackio | ThePower Education | 2024\\nMaster's in Data Science\\n\\nComplutense University of Madrid | 2019 - 2024\\nBachelor's Degree in Physical Sciences\\n\\nTechnical University of Madrid | 2014 - 2019\\nBachelor's Degree in Aerospace Engineering\\n\\nCERTIFICATIONS\\n\\n¢ C1 Advanced (CAE) Cambridge English\\n¢ Microsoft Certified: Azure Al Fundamentals\\n\\nEXTRACURRICULAR ACTIVITIES\\n\\nPhy6cool | CIEMAT | Jul 2023\\n¢ School of Experimental Physics of Particles,\\nAstroparticles, and Cosmology.\\ne Project: Study of Type la supernovae to\\ndetermine cosmological parameters.\\n\\nLANGUAGES\\ne Spanish: Native\\ne English: C1\\n\\ne French: B2\\n\", 'skills_detected': ['machine learning', 'data visualization', 'azure', 'nosql', 'bi', 'sql', 'r', 'python']}\n"
     ]
    }
   ],
   "source": [
    "test_process_cv(\"cvs_ejemplo/CV _Javier_Carreira.pdf\")"
   ]
  },
  {
   "cell_type": "code",
   "execution_count": null,
   "metadata": {},
   "outputs": [],
   "source": [
    "# test_base_route()  # Test para la ruta base \"/\"\n",
    "# test_check_poppler()  # Test para verificar que Poppler está instalado\n",
    "# test_process_cv(\"example_cv.pdf\")  # Prueba con un CV en PDF o imagen"
   ]
  }
 ],
 "metadata": {
  "kernelspec": {
   "display_name": "dev",
   "language": "python",
   "name": "python3"
  },
  "language_info": {
   "codemirror_mode": {
    "name": "ipython",
    "version": 3
   },
   "file_extension": ".py",
   "mimetype": "text/x-python",
   "name": "python",
   "nbconvert_exporter": "python",
   "pygments_lexer": "ipython3",
   "version": "3.11.8"
  }
 },
 "nbformat": 4,
 "nbformat_minor": 2
}
