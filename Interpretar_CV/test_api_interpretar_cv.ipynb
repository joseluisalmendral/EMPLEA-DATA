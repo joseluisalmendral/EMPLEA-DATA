{
 "cells": [
  {
   "cell_type": "code",
   "execution_count": 1,
   "metadata": {},
   "outputs": [],
   "source": [
    "import requests\n",
    "\n",
    "BASE_URL = \"https://cv-interpreter2.onrender.com\"\n",
    "\n",
    "def test_base_route():\n",
    "    \"\"\"Prueba la ruta base '/'\"\"\"\n",
    "    print(\"\\n🔹 Testeando ruta base '/' ...\")\n",
    "    response = requests.get(BASE_URL)\n",
    "    if response.status_code == 200:\n",
    "        print(\"✅ Ruta base funcionando:\", response.json())\n",
    "    else:\n",
    "        print(\"❌ Error en la ruta base:\", response.status_code, response.text)\n",
    "\n",
    "def test_check_poppler():\n",
    "    \"\"\"Prueba si Poppler está instalado\"\"\"\n",
    "    print(\"\\n🔹 Testeando ruta '/check_poppler/' ...\")\n",
    "    response = requests.get(f\"{BASE_URL}/check_poppler/\")\n",
    "    if response.status_code == 200:\n",
    "        print(\"✅ Poppler instalado:\", response.json())\n",
    "    else:\n",
    "        print(\"❌ Error en check_poppler:\", response.status_code, response.text)\n",
    "\n",
    "def test_process_cv(file_path):\n",
    "    \"\"\"Prueba la ruta '/process_cv/' subiendo un archivo PDF o imagen\"\"\"\n",
    "    print(\"\\n🔹 Testeando ruta '/process_cv/' con archivo:\", file_path)\n",
    "    with open(file_path, \"rb\") as file:\n",
    "        response = requests.post(\n",
    "            f\"{BASE_URL}/process_cv/\",\n",
    "            files={\"file\": file}\n",
    "        )\n",
    "        if response.status_code == 200:\n",
    "            print(\"✅ CV procesado con éxito:\", response.json())\n",
    "        else:\n",
    "            print(\"❌ Error al procesar el CV:\", response.status_code, response.text)"
   ]
  },
  {
   "cell_type": "code",
   "execution_count": 2,
   "metadata": {},
   "outputs": [
    {
     "name": "stdout",
     "output_type": "stream",
     "text": [
      "\n",
      "🔹 Testeando ruta base '/' ...\n",
      "✅ Ruta base funcionando: {'message': 'Esto funciona'}\n"
     ]
    }
   ],
   "source": [
    "test_base_route()"
   ]
  },
  {
   "cell_type": "code",
   "execution_count": 11,
   "metadata": {},
   "outputs": [
    {
     "name": "stdout",
     "output_type": "stream",
     "text": [
      "\n",
      "🔹 Testeando ruta '/check_poppler/' ...\n",
      "✅ Poppler instalado: {'message': 'Poppler está instalado y disponible'}\n"
     ]
    }
   ],
   "source": [
    "test_check_poppler()"
   ]
  },
  {
   "cell_type": "code",
   "execution_count": 3,
   "metadata": {},
   "outputs": [
    {
     "name": "stdout",
     "output_type": "stream",
     "text": [
      "\n",
      "🔹 Testeando ruta '/process_cv/' con archivo: cvs_ejemplo/CV_data_scientist_ACTUALIZADO_26-12-2024.pdf\n",
      "✅ CV procesado con éxito: {'filename': 'CV_data_scientist_ACTUALIZADO_26-12-2024.pdf', 'extracted_text': \"Data Scientist\\n\\nefectivas.\\n\\nW% joseluisfunnels@gmail.com\\n\\nGFA linkedin.com/in/jose-luis-Fernandez-almendral\\n\\nEXPERIENCIA LABORAL\\n\\nData Scientist | Data Engineer\\n\\nHack(io), ThePower\\n\\nLogros/Tareas\\n\\n- Extraccién automatizada de datos mediante Web Scraping y APIs,\\ngestionando grandes voltimenes de informacién y optimizando\\nsu integracién en flujos ETL y ELT mediante Python y PySpark.\\n\\n- Segmentacion de clientes y productos mediante clustering,\\nutilizando modelos de aprendizaje no supervisado como K-Means\\ny DBSCAN para identificar patrones de comportamiento.\\nPosteriormente, desarrollo de modelos predictivos supervisados\\ncomo regresion logistica o Random Forest con tecnologias como\\nScikit-learn, adaptados a cada grupo identificado.\\n\\n- Analisis de reclamaciones de clientes mediante NLP, utilizando\\nmodelos como BERT implementados con TensorFlow para\\nidentificar motivos clave, independientemente del idioma,\\noptimizando la gestion de quejas y la experiencia del cliente.\\n\\n- Visualizacién de datos con Seaborn, Plotly y Power BI, creando\\nanalisis exploratorios y graficos interactivos para comunicar\\nresultados de manera intuitiva.\\n\\nDesarrollador Web Full-Stack\\nNTT Data\\n\\n03/2023 - 07/2024\\n\\nLogros/Tareas\\n\\n— Implementacién de algoritmos de lectura para codigos de barras\\nde billetes de avion en .NET.\\n\\n- Trabajo con equipos internacionales en inglés para Iberdrola y\\nScottish Power para coordinar proyectos, planificacion\\nestratégica y ejecucién de tareas.\\n\\n- Mantenimiento y desarrollo de nuevas Funcionalidades para el\\nportal de Iberdrola de Portugal, Espafia, Alemania y Francia\\nmediante Java, Liferay, JavaScript, HTML y CSS.\\n\\nEDUCACION\\n\\nMaster Data Science\\nHack(io), ThePower\\n\\n10/2024 - 02/2025 Madrid, Espafia.\\n\\nFunnels, Meta Ads & Marketing Online.\\nFunnel School, Kike Jurado\\n02/2024 - 07/2024\\n\\nGrado Superior Desarrollo De Aplicaciones\\nWeb |\\n|.E.S Agora\\n\\n2023 Caceres, Espafia.\\n\\nJose Luis Fernandez Almendral\\n\\nExperiencia en Machine Learning, ETL y ELT, analisis estadistico y visualizacién de datos interactiva para\\ngenerar insights accionables. Experiencia previa como desarrollador web Full Stack y en Marketing\\nOnline, lo que me permite integrar analisis de datos con soluciones tecnoldgicas y estrategias de negocio\\n\\nQ Madrid, Espafia +34 642927402\\n\\n©) github.com/joseluisalmendral\\n\\nHABILIDADES\\n\\nMachine Learning\\nes GAGs fe]\\nData Mining Data Extraction PySpark\\n\\nLOGROS | PROYECTOS\\n\\nDisefio y Desarrollo pagina web 'elpaisa.net' (2024)\\nRenovaci6n de pagina web para la empresa PAISA en Estados\\nUnidos.\\n\\n2° Posicién en Olimpiada de Programacién (2021)\\n\\n2° posicién en las Extremadura Skills 2021 en la modalidad de\\nDesarrollo de Aplicaciones WEB .\\n\\nIDIOMAS\\n\\nInglés: C1 Espanol: Nativo\\nPlena competencia profesional Competencia nativa o bilingtie\\n\\nHABILIDADES ADICIONALES\\n\\nStreamlit Apache Airflow Snowflake\\n\\nJava -NET JS|TS HTML | CSS Jira\\n\\nGit\\n\", 'skills_detected': ['tensorflow', 'bi', 'pyspark', 'analisis', 'power bi', 'r', 'elt', 'nlp', 'machine learning', 'etl', 'spark', 'data mining', 'analisis de datos', 'airflow', 'python']}\n"
     ]
    }
   ],
   "source": [
    "test_process_cv(\"cvs_ejemplo/CV_data_scientist_ACTUALIZADO_26-12-2024.pdf\")"
   ]
  }
 ],
 "metadata": {
  "kernelspec": {
   "display_name": "dev",
   "language": "python",
   "name": "python3"
  },
  "language_info": {
   "codemirror_mode": {
    "name": "ipython",
    "version": 3
   },
   "file_extension": ".py",
   "mimetype": "text/x-python",
   "name": "python",
   "nbconvert_exporter": "python",
   "pygments_lexer": "ipython3",
   "version": "3.11.8"
  }
 },
 "nbformat": 4,
 "nbformat_minor": 2
}
