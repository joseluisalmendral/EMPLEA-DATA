{
 "cells": [
  {
   "cell_type": "markdown",
   "metadata": {},
   "source": [
    "### Extractor información de ofertas laborales a JSON"
   ]
  },
  {
   "cell_type": "markdown",
   "metadata": {},
   "source": [
    "### cargamos librerias y variables de entorno"
   ]
  },
  {
   "cell_type": "code",
   "execution_count": 1,
   "metadata": {},
   "outputs": [],
   "source": [
    "from dotenv import load_dotenv\n",
    "import os\n",
    "import openai\n",
    "from openai import OpenAI\n",
    "from typing import Optional, Dict, Any, List\n",
    "import ast\n",
    "\n",
    "load_dotenv()\n",
    "\n",
    "client = OpenAI(api_key=os.getenv('OPENAI_API_KEY'))"
   ]
  },
  {
   "cell_type": "code",
   "execution_count": 2,
   "metadata": {},
   "outputs": [
    {
     "name": "stdout",
     "output_type": "stream",
     "text": [
      "SyncCursorPage[Message](data=[Message(id='msg_gQTmnaZ07BFmUoLCTX3uQjUK', assistant_id='asst_F0QLSmqmosnyOEjfytVL3gGc', attachments=[], completed_at=None, content=[TextContentBlock(text=Text(annotations=[], value='{\"exp_min\":\"1-2 años\",\"tipo_contrato\":\"practicas\",\"estudios_min\":[\"grado\"],\"skills\":[\"excel\",\"powerbi\",\"trabajo en equipo\",\"visualizacion\"]}'), type='text')], created_at=1737718798, incomplete_at=None, incomplete_details=None, metadata={}, object='thread.message', role='assistant', run_id='run_gcT7Ng2V7aqdB0ed4dBHbnaA', status=None, thread_id='thread_lcW2w755GJ1zhiOYwa5xC6xB'), Message(id='msg_uvwIWvQMLSqvHXOy9CqQevxv', assistant_id=None, attachments=[], completed_at=None, content=[TextContentBlock(text=Text(annotations=[], value=\"En DataFlow Corp, nos encontramos en la búsqueda de un/a Reporting Specialist para unirte a nuestro equipo ubicado en Barcelona, España. Este puesto ofrece la oportunidad de trabajar en proyectos innovadores, con impacto directo en la estrategia y la toma de decisiones de nuestra empresa. Como parte de tu trabajo, utilizarás tus habilidades en Excel, Power BI, Trabajo en equipo, Visualización para analizar datos complejos, identificar patrones y proporcionar insights clave para el negocio. Estamos especialmente interesados en profesionales con experiencia en Excel, Power BI, Trabajo en equipo, Visualización. Estas habilidades te permitirán abordar desafíos técnicos y colaborar con diferentes equipos para optimizar procesos y garantizar la calidad de los resultados. Para este puesto, buscamos candidatos con al menos 1-2 años de experiencia profesional, junto con una formación académica mínima de Grado en Estadística, Matemáticas, Informática o similar. Ofrecemos un atractivo paquete salarial en el rango de 28.000€ - 35.000€ brutos anuales y Contrato de prácticas, que asegura tanto estabilidad como flexibilidad para nuestros empleados. En nuestra empresa, promovemos un entorno inclusivo que valora la diversidad, fomenta el aprendizaje continuo y apoya el crecimiento profesional de cada miembro del equipo. Somos una organización dinámica que busca aprovechar al máximo el potencial de los datos para impulsar nuestra estrategia empresarial. Si buscas un rol desafiante que combine análisis de datos, colaboración interdisciplinar y oportunidades de desarrollo, ¡te animamos a postularte! En {row['Empresa']}, valoramos tu talento y dedicación, y estamos deseando conocerte.\"), type='text')], created_at=1737718796, incomplete_at=None, incomplete_details=None, metadata={}, object='thread.message', role='user', run_id=None, status=None, thread_id='thread_lcW2w755GJ1zhiOYwa5xC6xB')], object='list', first_id='msg_gQTmnaZ07BFmUoLCTX3uQjUK', last_id='msg_uvwIWvQMLSqvHXOy9CqQevxv', has_more=False)\n"
     ]
    }
   ],
   "source": [
    "data_assistant = client.beta.assistants.retrieve(os.getenv('ASSISTANT_API_KEY'))\n",
    "\n",
    "thread = client.beta.threads.create()\n",
    "\n",
    "message = client.beta.threads.messages.create(\n",
    "thread_id=thread.id,\n",
    "role=\"user\",\n",
    "content=\"En DataFlow Corp, nos encontramos en la búsqueda de un/a Reporting Specialist para unirte a nuestro equipo ubicado en Barcelona, España. Este puesto ofrece la oportunidad de trabajar en proyectos innovadores, con impacto directo en la estrategia y la toma de decisiones de nuestra empresa. Como parte de tu trabajo, utilizarás tus habilidades en Excel, Power BI, Trabajo en equipo, Visualización para analizar datos complejos, identificar patrones y proporcionar insights clave para el negocio. Estamos especialmente interesados en profesionales con experiencia en Excel, Power BI, Trabajo en equipo, Visualización. Estas habilidades te permitirán abordar desafíos técnicos y colaborar con diferentes equipos para optimizar procesos y garantizar la calidad de los resultados. Para este puesto, buscamos candidatos con al menos 1-2 años de experiencia profesional, junto con una formación académica mínima de Grado en Estadística, Matemáticas, Informática o similar. Ofrecemos un atractivo paquete salarial en el rango de 28.000€ - 35.000€ brutos anuales y Contrato de prácticas, que asegura tanto estabilidad como flexibilidad para nuestros empleados. En nuestra empresa, promovemos un entorno inclusivo que valora la diversidad, fomenta el aprendizaje continuo y apoya el crecimiento profesional de cada miembro del equipo. Somos una organización dinámica que busca aprovechar al máximo el potencial de los datos para impulsar nuestra estrategia empresarial. Si buscas un rol desafiante que combine análisis de datos, colaboración interdisciplinar y oportunidades de desarrollo, ¡te animamos a postularte! En {row['Empresa']}, valoramos tu talento y dedicación, y estamos deseando conocerte.\"\n",
    ")\n",
    "\n",
    "run = client.beta.threads.runs.create_and_poll(\n",
    "thread_id=thread.id,\n",
    "assistant_id=data_assistant.id\n",
    ")\n",
    "\n",
    "\n",
    "if run.status == 'completed': \n",
    "    messages = client.beta.threads.messages.list(\n",
    "    thread_id=thread.id\n",
    "    )\n",
    "    print(messages)\n",
    "else:\n",
    "    print(run.status)"
   ]
  },
  {
   "cell_type": "code",
   "execution_count": 3,
   "metadata": {},
   "outputs": [
    {
     "data": {
      "text/plain": [
       "{'exp_min': '1-2 años',\n",
       " 'tipo_contrato': 'practicas',\n",
       " 'estudios_min': ['grado'],\n",
       " 'skills': ['excel', 'powerbi', 'trabajo en equipo', 'visualizacion']}"
      ]
     },
     "execution_count": 3,
     "metadata": {},
     "output_type": "execute_result"
    }
   ],
   "source": [
    "ast.literal_eval(messages.data[0].content[0].text.value)"
   ]
  }
 ],
 "metadata": {
  "kernelspec": {
   "display_name": "dev",
   "language": "python",
   "name": "python3"
  },
  "language_info": {
   "codemirror_mode": {
    "name": "ipython",
    "version": 3
   },
   "file_extension": ".py",
   "mimetype": "text/x-python",
   "name": "python",
   "nbconvert_exporter": "python",
   "pygments_lexer": "ipython3",
   "version": "3.11.8"
  }
 },
 "nbformat": 4,
 "nbformat_minor": 2
}
