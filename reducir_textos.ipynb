{
 "cells": [
  {
   "cell_type": "code",
   "execution_count": 2,
   "metadata": {},
   "outputs": [],
   "source": [
    "oferta = '''Requisitos\n",
    "Estudios mínimos\n",
    "Máster\n",
    "Experiencia mínima\n",
    "Al menos 4 años\n",
    "Requisitos mínimos\n",
    "Imprescindible:\n",
    "- Experiencia mínima de 4 años como Data Scientist.\n",
    "-Formación universitaria: Grado, Master y/o Doctorado en Estadística, Matemáticas, Física, Informática u otros estudios universitarios de carácter técnico (Ingeniería, Telecomunicaciones?)\n",
    "-Conocimientos avanzados en SQL y Python, Spark/Pyspark.\n",
    "- Experiencia en sector retail\n",
    "\n",
    "Descripción\n",
    "En BETWEEN apostamos por el mejor talento dentro del sector tecnológico. Nos involucramos en una gran variedad de proyectos punteros, trabajando con las últimas tecnologías. Actualmente en BETWEEN contamos con un equipo de más de 800 personas.\n",
    "Trabajamos en ámbitos como BI, IoT, Big Data e I+D. En el área de Operaciones implantamos proyectos de Service Desk, Infraestructuras IT y proyectos Cloud, entre otros.\n",
    "Actualmente seleccionamos un/a DATA SCIENTIST para incorporarse de forma indefinida en uno de los equipos de I+D que Between tiene implantados en uno de nuestros principales clientes del sector retail.\n",
    "\n",
    "¿Qué haré? Estas serán tus funciones principales:\n",
    "- Plantear soluciones basadas en datos, utilizando machine learning y estadística descriptiva\n",
    "- Evaluar la calidad de los modelos y ajuste de modelos, incluyendo modelos avanzados como redes neuronales, aprendizaje por refuerzo, nuevos modelos de IA generativa.\n",
    "- Aplicar las mejores prácticas y estándares de calidad en el desarrollo de proyectos de AI/ML, utilizando herramientas y prácticas metodológicas como CI/CD, orquestación de modelos, MLOps...\n",
    "- Participar en la revisión y documentación de código, y aplicar prácticas de calidad en todo el ciclo de vida del software.\n",
    "- Desarrollar modelos de datos y aplicar técnicas matemáticas, estadística y de programación\n",
    "\n",
    "Si eres BETWEENER obtendrás estos beneficios:\n",
    "- Seguro médico con Sanitas.\n",
    "- Dispondrás de oportunidades de formación y desarrollo profesional: Idiomas, cursos en Udemy, Certificaciones, Programa The Power Business School y Bootcamps especializados (Agile, DevOps, IA & Big Data, Ciberseguridad, etc.).\n",
    "- Contarás con un equipo de Talento que te acompañará durante toda tu experiencia con nosotros. ¡Haremos un café una vez al mes! Así, mantendremos el contacto.\n",
    "- Pondremos a tu disposición un amplio abanico de retos y proyectos acordes con tus objetivos personales y profesionales.\n",
    "- Posibilidad de elegir cómo obtener parte de tu salario gracias a las ventajas fiscales de nuestra Retribución Flexible (Ticket restaurant, Ticket transporte, Ticket guardería).\n",
    "- Descuentos para acceder a centros de Fitness con Gympass.\n",
    "- Acceso a nuestro Club de Descuentos: Inspiring Benefits.\n",
    "- En BETWEEN nos gusta mucho hacer networking, por lo que te invitaremos a participar en todos estos eventos ¡y más!: las BETWEEN Nights, torneos deportivos, Black Mamba Race, viernes de vermut, juegos de mesa, etc.\n",
    "- Programa remunerado de recomendación de Talento.\n",
    "- En BETWEEN, la igualdad de oportunidades es uno de nuestros valores. Nuestro compromiso es contratar al mejor talento independientemente de su religión, sexo, edad y personas con otras capacidades y promover su desarrollo profesional y personal.\n",
    "\n",
    "Tipo de industria de la oferta\n",
    "Servicios y tecnología de la información\n",
    "Categoría\n",
    "Informática y telecomunicaciones - ERP, CRM, Business Intelligence\n",
    "Nivel\n",
    "Empleado/a\n",
    "Número de vacantes\n",
    "1\n",
    "Salario\n",
    "Salario: 42.000€ - 54.000€ Bruto/año\n",
    "Beneficios sociales\n",
    "Teletrabajo\n",
    "Seguro médico\n",
    "Cheque restaurante'''"
   ]
  },
  {
   "cell_type": "code",
   "execution_count": 3,
   "metadata": {},
   "outputs": [
    {
     "name": "stderr",
     "output_type": "stream",
     "text": [
      "[nltk_data] Downloading package stopwords to\n",
      "[nltk_data]     C:\\Users\\JLFA\\AppData\\Roaming\\nltk_data...\n",
      "[nltk_data]   Package stopwords is already up-to-date!\n",
      "[nltk_data] Downloading package punkt to\n",
      "[nltk_data]     C:\\Users\\JLFA\\AppData\\Roaming\\nltk_data...\n",
      "[nltk_data]   Package punkt is already up-to-date!\n"
     ]
    },
    {
     "name": "stdout",
     "output_type": "stream",
     "text": [
      "Texto limpio: esta es una oferta increble para comprar productos de alta calidad y bajo costo\n"
     ]
    },
    {
     "ename": "LookupError",
     "evalue": "\n**********************************************************************\n  Resource \u001b[93mpunkt_tab\u001b[0m not found.\n  Please use the NLTK Downloader to obtain the resource:\n\n  \u001b[31m>>> import nltk\n  >>> nltk.download('punkt_tab')\n  \u001b[0m\n  For more information see: https://www.nltk.org/data.html\n\n  Attempted to load \u001b[93mtokenizers/punkt_tab/spanish/\u001b[0m\n\n  Searched in:\n    - 'C:\\\\Users\\\\JLFA/nltk_data'\n    - 'c:\\\\Users\\\\JLFA\\\\anaconda3\\\\envs\\\\dev\\\\nltk_data'\n    - 'c:\\\\Users\\\\JLFA\\\\anaconda3\\\\envs\\\\dev\\\\share\\\\nltk_data'\n    - 'c:\\\\Users\\\\JLFA\\\\anaconda3\\\\envs\\\\dev\\\\lib\\\\nltk_data'\n    - 'C:\\\\Users\\\\JLFA\\\\AppData\\\\Roaming\\\\nltk_data'\n    - 'C:\\\\nltk_data'\n    - 'D:\\\\nltk_data'\n    - 'E:\\\\nltk_data'\n**********************************************************************\n",
     "output_type": "error",
     "traceback": [
      "\u001b[1;31m---------------------------------------------------------------------------\u001b[0m",
      "\u001b[1;31mLookupError\u001b[0m                               Traceback (most recent call last)",
      "Cell \u001b[1;32mIn[3], line 39\u001b[0m\n\u001b[0;32m     36\u001b[0m texto \u001b[38;5;241m=\u001b[39m limpiar_texto(oferta)\n\u001b[0;32m     37\u001b[0m \u001b[38;5;28mprint\u001b[39m(\u001b[38;5;124m\"\u001b[39m\u001b[38;5;124mTexto limpio:\u001b[39m\u001b[38;5;124m\"\u001b[39m, texto)\n\u001b[1;32m---> 39\u001b[0m texto \u001b[38;5;241m=\u001b[39m \u001b[43meliminar_stopwords\u001b[49m\u001b[43m(\u001b[49m\u001b[43mtexto\u001b[49m\u001b[43m)\u001b[49m\n\u001b[0;32m     40\u001b[0m \u001b[38;5;28mprint\u001b[39m(\u001b[38;5;124m\"\u001b[39m\u001b[38;5;124mTexto sin stopwords:\u001b[39m\u001b[38;5;124m\"\u001b[39m, texto)\n\u001b[0;32m     42\u001b[0m texto \u001b[38;5;241m=\u001b[39m aplicar_stemming(texto)\n",
      "Cell \u001b[1;32mIn[3], line 21\u001b[0m, in \u001b[0;36meliminar_stopwords\u001b[1;34m(texto)\u001b[0m\n\u001b[0;32m     19\u001b[0m \u001b[38;5;28;01mdef\u001b[39;00m \u001b[38;5;21meliminar_stopwords\u001b[39m(texto):\n\u001b[0;32m     20\u001b[0m     stop_words \u001b[38;5;241m=\u001b[39m \u001b[38;5;28mset\u001b[39m(stopwords\u001b[38;5;241m.\u001b[39mwords(\u001b[38;5;124m'\u001b[39m\u001b[38;5;124mspanish\u001b[39m\u001b[38;5;124m'\u001b[39m))  \u001b[38;5;66;03m# Usar stopwords en español\u001b[39;00m\n\u001b[1;32m---> 21\u001b[0m     palabras \u001b[38;5;241m=\u001b[39m \u001b[43mword_tokenize\u001b[49m\u001b[43m(\u001b[49m\u001b[43mtexto\u001b[49m\u001b[43m,\u001b[49m\u001b[43m \u001b[49m\u001b[43mlanguage\u001b[49m\u001b[38;5;241;43m=\u001b[39;49m\u001b[38;5;124;43m'\u001b[39;49m\u001b[38;5;124;43mspanish\u001b[39;49m\u001b[38;5;124;43m'\u001b[39;49m\u001b[43m)\u001b[49m  \u001b[38;5;66;03m# Tokenizar en español\u001b[39;00m\n\u001b[0;32m     22\u001b[0m     palabras_filtradas \u001b[38;5;241m=\u001b[39m [palabra \u001b[38;5;28;01mfor\u001b[39;00m palabra \u001b[38;5;129;01min\u001b[39;00m palabras \u001b[38;5;28;01mif\u001b[39;00m palabra \u001b[38;5;129;01mnot\u001b[39;00m \u001b[38;5;129;01min\u001b[39;00m stop_words]\n\u001b[0;32m     23\u001b[0m     \u001b[38;5;28;01mreturn\u001b[39;00m \u001b[38;5;124m'\u001b[39m\u001b[38;5;124m \u001b[39m\u001b[38;5;124m'\u001b[39m\u001b[38;5;241m.\u001b[39mjoin(palabras_filtradas)\n",
      "File \u001b[1;32mc:\\Users\\JLFA\\anaconda3\\envs\\dev\\Lib\\site-packages\\nltk\\tokenize\\__init__.py:142\u001b[0m, in \u001b[0;36mword_tokenize\u001b[1;34m(text, language, preserve_line)\u001b[0m\n\u001b[0;32m    127\u001b[0m \u001b[38;5;28;01mdef\u001b[39;00m \u001b[38;5;21mword_tokenize\u001b[39m(text, language\u001b[38;5;241m=\u001b[39m\u001b[38;5;124m\"\u001b[39m\u001b[38;5;124menglish\u001b[39m\u001b[38;5;124m\"\u001b[39m, preserve_line\u001b[38;5;241m=\u001b[39m\u001b[38;5;28;01mFalse\u001b[39;00m):\n\u001b[0;32m    128\u001b[0m \u001b[38;5;250m    \u001b[39m\u001b[38;5;124;03m\"\"\"\u001b[39;00m\n\u001b[0;32m    129\u001b[0m \u001b[38;5;124;03m    Return a tokenized copy of *text*,\u001b[39;00m\n\u001b[0;32m    130\u001b[0m \u001b[38;5;124;03m    using NLTK's recommended word tokenizer\u001b[39;00m\n\u001b[1;32m   (...)\u001b[0m\n\u001b[0;32m    140\u001b[0m \u001b[38;5;124;03m    :type preserve_line: bool\u001b[39;00m\n\u001b[0;32m    141\u001b[0m \u001b[38;5;124;03m    \"\"\"\u001b[39;00m\n\u001b[1;32m--> 142\u001b[0m     sentences \u001b[38;5;241m=\u001b[39m [text] \u001b[38;5;28;01mif\u001b[39;00m preserve_line \u001b[38;5;28;01melse\u001b[39;00m \u001b[43msent_tokenize\u001b[49m\u001b[43m(\u001b[49m\u001b[43mtext\u001b[49m\u001b[43m,\u001b[49m\u001b[43m \u001b[49m\u001b[43mlanguage\u001b[49m\u001b[43m)\u001b[49m\n\u001b[0;32m    143\u001b[0m     \u001b[38;5;28;01mreturn\u001b[39;00m [\n\u001b[0;32m    144\u001b[0m         token \u001b[38;5;28;01mfor\u001b[39;00m sent \u001b[38;5;129;01min\u001b[39;00m sentences \u001b[38;5;28;01mfor\u001b[39;00m token \u001b[38;5;129;01min\u001b[39;00m _treebank_word_tokenizer\u001b[38;5;241m.\u001b[39mtokenize(sent)\n\u001b[0;32m    145\u001b[0m     ]\n",
      "File \u001b[1;32mc:\\Users\\JLFA\\anaconda3\\envs\\dev\\Lib\\site-packages\\nltk\\tokenize\\__init__.py:119\u001b[0m, in \u001b[0;36msent_tokenize\u001b[1;34m(text, language)\u001b[0m\n\u001b[0;32m    109\u001b[0m \u001b[38;5;28;01mdef\u001b[39;00m \u001b[38;5;21msent_tokenize\u001b[39m(text, language\u001b[38;5;241m=\u001b[39m\u001b[38;5;124m\"\u001b[39m\u001b[38;5;124menglish\u001b[39m\u001b[38;5;124m\"\u001b[39m):\n\u001b[0;32m    110\u001b[0m \u001b[38;5;250m    \u001b[39m\u001b[38;5;124;03m\"\"\"\u001b[39;00m\n\u001b[0;32m    111\u001b[0m \u001b[38;5;124;03m    Return a sentence-tokenized copy of *text*,\u001b[39;00m\n\u001b[0;32m    112\u001b[0m \u001b[38;5;124;03m    using NLTK's recommended sentence tokenizer\u001b[39;00m\n\u001b[1;32m   (...)\u001b[0m\n\u001b[0;32m    117\u001b[0m \u001b[38;5;124;03m    :param language: the model name in the Punkt corpus\u001b[39;00m\n\u001b[0;32m    118\u001b[0m \u001b[38;5;124;03m    \"\"\"\u001b[39;00m\n\u001b[1;32m--> 119\u001b[0m     tokenizer \u001b[38;5;241m=\u001b[39m \u001b[43m_get_punkt_tokenizer\u001b[49m\u001b[43m(\u001b[49m\u001b[43mlanguage\u001b[49m\u001b[43m)\u001b[49m\n\u001b[0;32m    120\u001b[0m     \u001b[38;5;28;01mreturn\u001b[39;00m tokenizer\u001b[38;5;241m.\u001b[39mtokenize(text)\n",
      "File \u001b[1;32mc:\\Users\\JLFA\\anaconda3\\envs\\dev\\Lib\\site-packages\\nltk\\tokenize\\__init__.py:105\u001b[0m, in \u001b[0;36m_get_punkt_tokenizer\u001b[1;34m(language)\u001b[0m\n\u001b[0;32m     96\u001b[0m \u001b[38;5;129m@functools\u001b[39m\u001b[38;5;241m.\u001b[39mlru_cache\n\u001b[0;32m     97\u001b[0m \u001b[38;5;28;01mdef\u001b[39;00m \u001b[38;5;21m_get_punkt_tokenizer\u001b[39m(language\u001b[38;5;241m=\u001b[39m\u001b[38;5;124m\"\u001b[39m\u001b[38;5;124menglish\u001b[39m\u001b[38;5;124m\"\u001b[39m):\n\u001b[0;32m     98\u001b[0m \u001b[38;5;250m    \u001b[39m\u001b[38;5;124;03m\"\"\"\u001b[39;00m\n\u001b[0;32m     99\u001b[0m \u001b[38;5;124;03m    A constructor for the PunktTokenizer that utilizes\u001b[39;00m\n\u001b[0;32m    100\u001b[0m \u001b[38;5;124;03m    a lru cache for performance.\u001b[39;00m\n\u001b[1;32m   (...)\u001b[0m\n\u001b[0;32m    103\u001b[0m \u001b[38;5;124;03m    :type language: str\u001b[39;00m\n\u001b[0;32m    104\u001b[0m \u001b[38;5;124;03m    \"\"\"\u001b[39;00m\n\u001b[1;32m--> 105\u001b[0m     \u001b[38;5;28;01mreturn\u001b[39;00m \u001b[43mPunktTokenizer\u001b[49m\u001b[43m(\u001b[49m\u001b[43mlanguage\u001b[49m\u001b[43m)\u001b[49m\n",
      "File \u001b[1;32mc:\\Users\\JLFA\\anaconda3\\envs\\dev\\Lib\\site-packages\\nltk\\tokenize\\punkt.py:1744\u001b[0m, in \u001b[0;36mPunktTokenizer.__init__\u001b[1;34m(self, lang)\u001b[0m\n\u001b[0;32m   1742\u001b[0m \u001b[38;5;28;01mdef\u001b[39;00m \u001b[38;5;21m__init__\u001b[39m(\u001b[38;5;28mself\u001b[39m, lang\u001b[38;5;241m=\u001b[39m\u001b[38;5;124m\"\u001b[39m\u001b[38;5;124menglish\u001b[39m\u001b[38;5;124m\"\u001b[39m):\n\u001b[0;32m   1743\u001b[0m     PunktSentenceTokenizer\u001b[38;5;241m.\u001b[39m\u001b[38;5;21m__init__\u001b[39m(\u001b[38;5;28mself\u001b[39m)\n\u001b[1;32m-> 1744\u001b[0m     \u001b[38;5;28;43mself\u001b[39;49m\u001b[38;5;241;43m.\u001b[39;49m\u001b[43mload_lang\u001b[49m\u001b[43m(\u001b[49m\u001b[43mlang\u001b[49m\u001b[43m)\u001b[49m\n",
      "File \u001b[1;32mc:\\Users\\JLFA\\anaconda3\\envs\\dev\\Lib\\site-packages\\nltk\\tokenize\\punkt.py:1749\u001b[0m, in \u001b[0;36mPunktTokenizer.load_lang\u001b[1;34m(self, lang)\u001b[0m\n\u001b[0;32m   1746\u001b[0m \u001b[38;5;28;01mdef\u001b[39;00m \u001b[38;5;21mload_lang\u001b[39m(\u001b[38;5;28mself\u001b[39m, lang\u001b[38;5;241m=\u001b[39m\u001b[38;5;124m\"\u001b[39m\u001b[38;5;124menglish\u001b[39m\u001b[38;5;124m\"\u001b[39m):\n\u001b[0;32m   1747\u001b[0m     \u001b[38;5;28;01mfrom\u001b[39;00m \u001b[38;5;21;01mnltk\u001b[39;00m\u001b[38;5;21;01m.\u001b[39;00m\u001b[38;5;21;01mdata\u001b[39;00m \u001b[38;5;28;01mimport\u001b[39;00m find\n\u001b[1;32m-> 1749\u001b[0m     lang_dir \u001b[38;5;241m=\u001b[39m \u001b[43mfind\u001b[49m\u001b[43m(\u001b[49m\u001b[38;5;124;43mf\u001b[39;49m\u001b[38;5;124;43m\"\u001b[39;49m\u001b[38;5;124;43mtokenizers/punkt_tab/\u001b[39;49m\u001b[38;5;132;43;01m{\u001b[39;49;00m\u001b[43mlang\u001b[49m\u001b[38;5;132;43;01m}\u001b[39;49;00m\u001b[38;5;124;43m/\u001b[39;49m\u001b[38;5;124;43m\"\u001b[39;49m\u001b[43m)\u001b[49m\n\u001b[0;32m   1750\u001b[0m     \u001b[38;5;28mself\u001b[39m\u001b[38;5;241m.\u001b[39m_params \u001b[38;5;241m=\u001b[39m load_punkt_params(lang_dir)\n\u001b[0;32m   1751\u001b[0m     \u001b[38;5;28mself\u001b[39m\u001b[38;5;241m.\u001b[39m_lang \u001b[38;5;241m=\u001b[39m lang\n",
      "File \u001b[1;32mc:\\Users\\JLFA\\anaconda3\\envs\\dev\\Lib\\site-packages\\nltk\\data.py:579\u001b[0m, in \u001b[0;36mfind\u001b[1;34m(resource_name, paths)\u001b[0m\n\u001b[0;32m    577\u001b[0m sep \u001b[38;5;241m=\u001b[39m \u001b[38;5;124m\"\u001b[39m\u001b[38;5;124m*\u001b[39m\u001b[38;5;124m\"\u001b[39m \u001b[38;5;241m*\u001b[39m \u001b[38;5;241m70\u001b[39m\n\u001b[0;32m    578\u001b[0m resource_not_found \u001b[38;5;241m=\u001b[39m \u001b[38;5;124mf\u001b[39m\u001b[38;5;124m\"\u001b[39m\u001b[38;5;130;01m\\n\u001b[39;00m\u001b[38;5;132;01m{\u001b[39;00msep\u001b[38;5;132;01m}\u001b[39;00m\u001b[38;5;130;01m\\n\u001b[39;00m\u001b[38;5;132;01m{\u001b[39;00mmsg\u001b[38;5;132;01m}\u001b[39;00m\u001b[38;5;130;01m\\n\u001b[39;00m\u001b[38;5;132;01m{\u001b[39;00msep\u001b[38;5;132;01m}\u001b[39;00m\u001b[38;5;130;01m\\n\u001b[39;00m\u001b[38;5;124m\"\u001b[39m\n\u001b[1;32m--> 579\u001b[0m \u001b[38;5;28;01mraise\u001b[39;00m \u001b[38;5;167;01mLookupError\u001b[39;00m(resource_not_found)\n",
      "\u001b[1;31mLookupError\u001b[0m: \n**********************************************************************\n  Resource \u001b[93mpunkt_tab\u001b[0m not found.\n  Please use the NLTK Downloader to obtain the resource:\n\n  \u001b[31m>>> import nltk\n  >>> nltk.download('punkt_tab')\n  \u001b[0m\n  For more information see: https://www.nltk.org/data.html\n\n  Attempted to load \u001b[93mtokenizers/punkt_tab/spanish/\u001b[0m\n\n  Searched in:\n    - 'C:\\\\Users\\\\JLFA/nltk_data'\n    - 'c:\\\\Users\\\\JLFA\\\\anaconda3\\\\envs\\\\dev\\\\nltk_data'\n    - 'c:\\\\Users\\\\JLFA\\\\anaconda3\\\\envs\\\\dev\\\\share\\\\nltk_data'\n    - 'c:\\\\Users\\\\JLFA\\\\anaconda3\\\\envs\\\\dev\\\\lib\\\\nltk_data'\n    - 'C:\\\\Users\\\\JLFA\\\\AppData\\\\Roaming\\\\nltk_data'\n    - 'C:\\\\nltk_data'\n    - 'D:\\\\nltk_data'\n    - 'E:\\\\nltk_data'\n**********************************************************************\n"
     ]
    }
   ],
   "source": [
    "import re\n",
    "from nltk.corpus import stopwords\n",
    "from nltk.tokenize import word_tokenize\n",
    "from nltk.stem import SnowballStemmer\n",
    "import nltk\n",
    "\n",
    "# Descargar recursos necesarios\n",
    "nltk.download('stopwords')\n",
    "nltk.download('punkt')\n",
    "\n",
    "# Función para limpiar texto\n",
    "def limpiar_texto(texto):\n",
    "    texto = texto.lower()  # Convertir a minúsculas\n",
    "    texto = re.sub(r'[^a-zA-Z0-9\\s]', '', texto)  # Solo letras, números y espacios\n",
    "    texto = re.sub(r'\\s+', ' ', texto)  # Reemplaza múltiples espacios por uno solo\n",
    "    return texto\n",
    "\n",
    "# Función para eliminar stopwords\n",
    "def eliminar_stopwords(texto):\n",
    "    stop_words = set(stopwords.words('spanish'))  # Usar stopwords en español\n",
    "    palabras = word_tokenize(texto, language='spanish')  # Tokenizar en español\n",
    "    palabras_filtradas = [palabra for palabra in palabras if palabra not in stop_words]\n",
    "    return ' '.join(palabras_filtradas)\n",
    "\n",
    "# Función para aplicar stemming\n",
    "def aplicar_stemming(texto):\n",
    "    stemmer = SnowballStemmer(\"spanish\")  # Stemming para español\n",
    "    palabras = word_tokenize(texto, language='spanish')  # Tokenizar en español\n",
    "    palabras_stem = [stemmer.stem(palabra) for palabra in palabras]\n",
    "    return ' '.join(palabras_stem)\n",
    "\n",
    "# Entrada de ejemplo\n",
    "oferta = \"Esta es una oferta increíble para comprar productos de alta calidad y bajo costo.\"\n",
    "\n",
    "# Procesamiento de texto\n",
    "texto = limpiar_texto(oferta)\n",
    "print(\"Texto limpio:\", texto)\n",
    "\n",
    "texto = eliminar_stopwords(texto)\n",
    "print(\"Texto sin stopwords:\", texto)\n",
    "\n",
    "texto = aplicar_stemming(texto)\n",
    "print(\"Texto procesado:\", texto)\n"
   ]
  },
  {
   "cell_type": "code",
   "execution_count": 2,
   "metadata": {},
   "outputs": [],
   "source": [
    "import re\n",
    "\n",
    "def limpiar_texto(texto):\n",
    "    texto = texto.lower()\n",
    "    texto = re.sub(r'[^a-zA-Z0-9\\s]', '', texto)  # Solo letras, números y espacios\n",
    "    texto = re.sub(r'\\s+', ' ', texto)  # Reemplaza múltiples espacios por uno solo\n",
    "    return texto"
   ]
  },
  {
   "cell_type": "code",
   "execution_count": 3,
   "metadata": {},
   "outputs": [
    {
     "name": "stderr",
     "output_type": "stream",
     "text": [
      "[nltk_data] Downloading package stopwords to\n",
      "[nltk_data]     C:\\Users\\JLFA\\AppData\\Roaming\\nltk_data...\n",
      "[nltk_data]   Package stopwords is already up-to-date!\n",
      "[nltk_data] Downloading package punkt to\n",
      "[nltk_data]     C:\\Users\\JLFA\\AppData\\Roaming\\nltk_data...\n",
      "[nltk_data]   Package punkt is already up-to-date!\n"
     ]
    }
   ],
   "source": [
    "from nltk.corpus import stopwords\n",
    "from nltk.tokenize import word_tokenize\n",
    "import nltk\n",
    "\n",
    "nltk.download('stopwords')\n",
    "nltk.download('punkt')\n",
    "\n",
    "def eliminar_stopwords(texto):\n",
    "    stop_words = set(stopwords.words('spanish'))\n",
    "    palabras = word_tokenize(texto)\n",
    "    palabras_filtradas = [palabra for palabra in palabras if palabra not in stop_words]\n",
    "    return ' '.join(palabras_filtradas)"
   ]
  },
  {
   "cell_type": "code",
   "execution_count": 4,
   "metadata": {},
   "outputs": [],
   "source": [
    "from nltk.stem import PorterStemmer\n",
    "\n",
    "def aplicar_stemming(texto):\n",
    "    stemmer = PorterStemmer()\n",
    "    palabras = word_tokenize(texto)\n",
    "    palabras_stem = [stemmer.stem(palabra) for palabra in palabras]\n",
    "    return ' '.join(palabras_stem)\n"
   ]
  },
  {
   "cell_type": "code",
   "execution_count": 5,
   "metadata": {},
   "outputs": [
    {
     "name": "stdout",
     "output_type": "stream",
     "text": [
      "requisitos estudios mnimos mster experiencia mnima al menos 4 aos requisitos mnimos imprescindible experiencia mnima de 4 aos como data scientist formacin universitaria grado master yo doctorado en estadstica matemticas fsica informtica u otros estudios universitarios de carcter tcnico ingeniera telecomunicaciones conocimientos avanzados en sql y python sparkpyspark experiencia en sector retail descripcin en between apostamos por el mejor talento dentro del sector tecnolgico nos involucramos en una gran variedad de proyectos punteros trabajando con las ltimas tecnologas actualmente en between contamos con un equipo de ms de 800 personas trabajamos en mbitos como bi iot big data e id en el rea de operaciones implantamos proyectos de service desk infraestructuras it y proyectos cloud entre otros actualmente seleccionamos una data scientist para incorporarse de forma indefinida en uno de los equipos de id que between tiene implantados en uno de nuestros principales clientes del sector retail qu har estas sern tus funciones principales plantear soluciones basadas en datos utilizando machine learning y estadstica descriptiva evaluar la calidad de los modelos y ajuste de modelos incluyendo modelos avanzados como redes neuronales aprendizaje por refuerzo nuevos modelos de ia generativa aplicar las mejores prcticas y estndares de calidad en el desarrollo de proyectos de aiml utilizando herramientas y prcticas metodolgicas como cicd orquestacin de modelos mlops participar en la revisin y documentacin de cdigo y aplicar prcticas de calidad en todo el ciclo de vida del software desarrollar modelos de datos y aplicar tcnicas matemticas estadstica y de programacin si eres betweener obtendrs estos beneficios seguro mdico con sanitas dispondrs de oportunidades de formacin y desarrollo profesional idiomas cursos en udemy certificaciones programa the power business school y bootcamps especializados agile devops ia big data ciberseguridad etc contars con un equipo de talento que te acompaar durante toda tu experiencia con nosotros haremos un caf una vez al mes as mantendremos el contacto pondremos a tu disposicin un amplio abanico de retos y proyectos acordes con tus objetivos personales y profesionales posibilidad de elegir cmo obtener parte de tu salario gracias a las ventajas fiscales de nuestra retribucin flexible ticket restaurant ticket transporte ticket guardera descuentos para acceder a centros de fitness con gympass acceso a nuestro club de descuentos inspiring benefits en between nos gusta mucho hacer networking por lo que te invitaremos a participar en todos estos eventos y ms las between nights torneos deportivos black mamba race viernes de vermut juegos de mesa etc programa remunerado de recomendacin de talento en between la igualdad de oportunidades es uno de nuestros valores nuestro compromiso es contratar al mejor talento independientemente de su religin sexo edad y personas con otras capacidades y promover su desarrollo profesional y personal tipo de industria de la oferta servicios y tecnologa de la informacin categora informtica y telecomunicaciones erp crm business intelligence nivel empleadoa nmero de vacantes 1 salario salario 42000 54000 brutoao beneficios sociales teletrabajo seguro mdico cheque restaurante\n"
     ]
    },
    {
     "ename": "LookupError",
     "evalue": "\n**********************************************************************\n  Resource \u001b[93mpunkt_tab\u001b[0m not found.\n  Please use the NLTK Downloader to obtain the resource:\n\n  \u001b[31m>>> import nltk\n  >>> nltk.download('punkt_tab')\n  \u001b[0m\n  For more information see: https://www.nltk.org/data.html\n\n  Attempted to load \u001b[93mtokenizers/punkt_tab/english/\u001b[0m\n\n  Searched in:\n    - 'C:\\\\Users\\\\JLFA/nltk_data'\n    - 'c:\\\\Users\\\\JLFA\\\\anaconda3\\\\envs\\\\dev\\\\nltk_data'\n    - 'c:\\\\Users\\\\JLFA\\\\anaconda3\\\\envs\\\\dev\\\\share\\\\nltk_data'\n    - 'c:\\\\Users\\\\JLFA\\\\anaconda3\\\\envs\\\\dev\\\\lib\\\\nltk_data'\n    - 'C:\\\\Users\\\\JLFA\\\\AppData\\\\Roaming\\\\nltk_data'\n    - 'C:\\\\nltk_data'\n    - 'D:\\\\nltk_data'\n    - 'E:\\\\nltk_data'\n**********************************************************************\n",
     "output_type": "error",
     "traceback": [
      "\u001b[1;31m---------------------------------------------------------------------------\u001b[0m",
      "\u001b[1;31mLookupError\u001b[0m                               Traceback (most recent call last)",
      "Cell \u001b[1;32mIn[5], line 3\u001b[0m\n\u001b[0;32m      1\u001b[0m texto \u001b[38;5;241m=\u001b[39m limpiar_texto(oferta)\n\u001b[0;32m      2\u001b[0m \u001b[38;5;28mprint\u001b[39m(texto)\n\u001b[1;32m----> 3\u001b[0m texto \u001b[38;5;241m=\u001b[39m \u001b[43meliminar_stopwords\u001b[49m\u001b[43m(\u001b[49m\u001b[43mtexto\u001b[49m\u001b[43m)\u001b[49m\n\u001b[0;32m      4\u001b[0m texto \u001b[38;5;241m=\u001b[39m aplicar_stemming(texto)  \u001b[38;5;66;03m# O usar lematización\u001b[39;00m\n\u001b[0;32m      5\u001b[0m \u001b[38;5;28mprint\u001b[39m(\u001b[38;5;124m\"\u001b[39m\u001b[38;5;124mTexto procesado:\u001b[39m\u001b[38;5;124m\"\u001b[39m, texto)\n",
      "Cell \u001b[1;32mIn[3], line 10\u001b[0m, in \u001b[0;36meliminar_stopwords\u001b[1;34m(texto)\u001b[0m\n\u001b[0;32m      8\u001b[0m \u001b[38;5;28;01mdef\u001b[39;00m \u001b[38;5;21meliminar_stopwords\u001b[39m(texto):\n\u001b[0;32m      9\u001b[0m     stop_words \u001b[38;5;241m=\u001b[39m \u001b[38;5;28mset\u001b[39m(stopwords\u001b[38;5;241m.\u001b[39mwords(\u001b[38;5;124m'\u001b[39m\u001b[38;5;124mspanish\u001b[39m\u001b[38;5;124m'\u001b[39m))\n\u001b[1;32m---> 10\u001b[0m     palabras \u001b[38;5;241m=\u001b[39m \u001b[43mword_tokenize\u001b[49m\u001b[43m(\u001b[49m\u001b[43mtexto\u001b[49m\u001b[43m)\u001b[49m\n\u001b[0;32m     11\u001b[0m     palabras_filtradas \u001b[38;5;241m=\u001b[39m [palabra \u001b[38;5;28;01mfor\u001b[39;00m palabra \u001b[38;5;129;01min\u001b[39;00m palabras \u001b[38;5;28;01mif\u001b[39;00m palabra \u001b[38;5;129;01mnot\u001b[39;00m \u001b[38;5;129;01min\u001b[39;00m stop_words]\n\u001b[0;32m     12\u001b[0m     \u001b[38;5;28;01mreturn\u001b[39;00m \u001b[38;5;124m'\u001b[39m\u001b[38;5;124m \u001b[39m\u001b[38;5;124m'\u001b[39m\u001b[38;5;241m.\u001b[39mjoin(palabras_filtradas)\n",
      "File \u001b[1;32mc:\\Users\\JLFA\\anaconda3\\envs\\dev\\Lib\\site-packages\\nltk\\tokenize\\__init__.py:142\u001b[0m, in \u001b[0;36mword_tokenize\u001b[1;34m(text, language, preserve_line)\u001b[0m\n\u001b[0;32m    127\u001b[0m \u001b[38;5;28;01mdef\u001b[39;00m \u001b[38;5;21mword_tokenize\u001b[39m(text, language\u001b[38;5;241m=\u001b[39m\u001b[38;5;124m\"\u001b[39m\u001b[38;5;124menglish\u001b[39m\u001b[38;5;124m\"\u001b[39m, preserve_line\u001b[38;5;241m=\u001b[39m\u001b[38;5;28;01mFalse\u001b[39;00m):\n\u001b[0;32m    128\u001b[0m \u001b[38;5;250m    \u001b[39m\u001b[38;5;124;03m\"\"\"\u001b[39;00m\n\u001b[0;32m    129\u001b[0m \u001b[38;5;124;03m    Return a tokenized copy of *text*,\u001b[39;00m\n\u001b[0;32m    130\u001b[0m \u001b[38;5;124;03m    using NLTK's recommended word tokenizer\u001b[39;00m\n\u001b[1;32m   (...)\u001b[0m\n\u001b[0;32m    140\u001b[0m \u001b[38;5;124;03m    :type preserve_line: bool\u001b[39;00m\n\u001b[0;32m    141\u001b[0m \u001b[38;5;124;03m    \"\"\"\u001b[39;00m\n\u001b[1;32m--> 142\u001b[0m     sentences \u001b[38;5;241m=\u001b[39m [text] \u001b[38;5;28;01mif\u001b[39;00m preserve_line \u001b[38;5;28;01melse\u001b[39;00m \u001b[43msent_tokenize\u001b[49m\u001b[43m(\u001b[49m\u001b[43mtext\u001b[49m\u001b[43m,\u001b[49m\u001b[43m \u001b[49m\u001b[43mlanguage\u001b[49m\u001b[43m)\u001b[49m\n\u001b[0;32m    143\u001b[0m     \u001b[38;5;28;01mreturn\u001b[39;00m [\n\u001b[0;32m    144\u001b[0m         token \u001b[38;5;28;01mfor\u001b[39;00m sent \u001b[38;5;129;01min\u001b[39;00m sentences \u001b[38;5;28;01mfor\u001b[39;00m token \u001b[38;5;129;01min\u001b[39;00m _treebank_word_tokenizer\u001b[38;5;241m.\u001b[39mtokenize(sent)\n\u001b[0;32m    145\u001b[0m     ]\n",
      "File \u001b[1;32mc:\\Users\\JLFA\\anaconda3\\envs\\dev\\Lib\\site-packages\\nltk\\tokenize\\__init__.py:119\u001b[0m, in \u001b[0;36msent_tokenize\u001b[1;34m(text, language)\u001b[0m\n\u001b[0;32m    109\u001b[0m \u001b[38;5;28;01mdef\u001b[39;00m \u001b[38;5;21msent_tokenize\u001b[39m(text, language\u001b[38;5;241m=\u001b[39m\u001b[38;5;124m\"\u001b[39m\u001b[38;5;124menglish\u001b[39m\u001b[38;5;124m\"\u001b[39m):\n\u001b[0;32m    110\u001b[0m \u001b[38;5;250m    \u001b[39m\u001b[38;5;124;03m\"\"\"\u001b[39;00m\n\u001b[0;32m    111\u001b[0m \u001b[38;5;124;03m    Return a sentence-tokenized copy of *text*,\u001b[39;00m\n\u001b[0;32m    112\u001b[0m \u001b[38;5;124;03m    using NLTK's recommended sentence tokenizer\u001b[39;00m\n\u001b[1;32m   (...)\u001b[0m\n\u001b[0;32m    117\u001b[0m \u001b[38;5;124;03m    :param language: the model name in the Punkt corpus\u001b[39;00m\n\u001b[0;32m    118\u001b[0m \u001b[38;5;124;03m    \"\"\"\u001b[39;00m\n\u001b[1;32m--> 119\u001b[0m     tokenizer \u001b[38;5;241m=\u001b[39m \u001b[43m_get_punkt_tokenizer\u001b[49m\u001b[43m(\u001b[49m\u001b[43mlanguage\u001b[49m\u001b[43m)\u001b[49m\n\u001b[0;32m    120\u001b[0m     \u001b[38;5;28;01mreturn\u001b[39;00m tokenizer\u001b[38;5;241m.\u001b[39mtokenize(text)\n",
      "File \u001b[1;32mc:\\Users\\JLFA\\anaconda3\\envs\\dev\\Lib\\site-packages\\nltk\\tokenize\\__init__.py:105\u001b[0m, in \u001b[0;36m_get_punkt_tokenizer\u001b[1;34m(language)\u001b[0m\n\u001b[0;32m     96\u001b[0m \u001b[38;5;129m@functools\u001b[39m\u001b[38;5;241m.\u001b[39mlru_cache\n\u001b[0;32m     97\u001b[0m \u001b[38;5;28;01mdef\u001b[39;00m \u001b[38;5;21m_get_punkt_tokenizer\u001b[39m(language\u001b[38;5;241m=\u001b[39m\u001b[38;5;124m\"\u001b[39m\u001b[38;5;124menglish\u001b[39m\u001b[38;5;124m\"\u001b[39m):\n\u001b[0;32m     98\u001b[0m \u001b[38;5;250m    \u001b[39m\u001b[38;5;124;03m\"\"\"\u001b[39;00m\n\u001b[0;32m     99\u001b[0m \u001b[38;5;124;03m    A constructor for the PunktTokenizer that utilizes\u001b[39;00m\n\u001b[0;32m    100\u001b[0m \u001b[38;5;124;03m    a lru cache for performance.\u001b[39;00m\n\u001b[1;32m   (...)\u001b[0m\n\u001b[0;32m    103\u001b[0m \u001b[38;5;124;03m    :type language: str\u001b[39;00m\n\u001b[0;32m    104\u001b[0m \u001b[38;5;124;03m    \"\"\"\u001b[39;00m\n\u001b[1;32m--> 105\u001b[0m     \u001b[38;5;28;01mreturn\u001b[39;00m \u001b[43mPunktTokenizer\u001b[49m\u001b[43m(\u001b[49m\u001b[43mlanguage\u001b[49m\u001b[43m)\u001b[49m\n",
      "File \u001b[1;32mc:\\Users\\JLFA\\anaconda3\\envs\\dev\\Lib\\site-packages\\nltk\\tokenize\\punkt.py:1744\u001b[0m, in \u001b[0;36mPunktTokenizer.__init__\u001b[1;34m(self, lang)\u001b[0m\n\u001b[0;32m   1742\u001b[0m \u001b[38;5;28;01mdef\u001b[39;00m \u001b[38;5;21m__init__\u001b[39m(\u001b[38;5;28mself\u001b[39m, lang\u001b[38;5;241m=\u001b[39m\u001b[38;5;124m\"\u001b[39m\u001b[38;5;124menglish\u001b[39m\u001b[38;5;124m\"\u001b[39m):\n\u001b[0;32m   1743\u001b[0m     PunktSentenceTokenizer\u001b[38;5;241m.\u001b[39m\u001b[38;5;21m__init__\u001b[39m(\u001b[38;5;28mself\u001b[39m)\n\u001b[1;32m-> 1744\u001b[0m     \u001b[38;5;28;43mself\u001b[39;49m\u001b[38;5;241;43m.\u001b[39;49m\u001b[43mload_lang\u001b[49m\u001b[43m(\u001b[49m\u001b[43mlang\u001b[49m\u001b[43m)\u001b[49m\n",
      "File \u001b[1;32mc:\\Users\\JLFA\\anaconda3\\envs\\dev\\Lib\\site-packages\\nltk\\tokenize\\punkt.py:1749\u001b[0m, in \u001b[0;36mPunktTokenizer.load_lang\u001b[1;34m(self, lang)\u001b[0m\n\u001b[0;32m   1746\u001b[0m \u001b[38;5;28;01mdef\u001b[39;00m \u001b[38;5;21mload_lang\u001b[39m(\u001b[38;5;28mself\u001b[39m, lang\u001b[38;5;241m=\u001b[39m\u001b[38;5;124m\"\u001b[39m\u001b[38;5;124menglish\u001b[39m\u001b[38;5;124m\"\u001b[39m):\n\u001b[0;32m   1747\u001b[0m     \u001b[38;5;28;01mfrom\u001b[39;00m \u001b[38;5;21;01mnltk\u001b[39;00m\u001b[38;5;21;01m.\u001b[39;00m\u001b[38;5;21;01mdata\u001b[39;00m \u001b[38;5;28;01mimport\u001b[39;00m find\n\u001b[1;32m-> 1749\u001b[0m     lang_dir \u001b[38;5;241m=\u001b[39m \u001b[43mfind\u001b[49m\u001b[43m(\u001b[49m\u001b[38;5;124;43mf\u001b[39;49m\u001b[38;5;124;43m\"\u001b[39;49m\u001b[38;5;124;43mtokenizers/punkt_tab/\u001b[39;49m\u001b[38;5;132;43;01m{\u001b[39;49;00m\u001b[43mlang\u001b[49m\u001b[38;5;132;43;01m}\u001b[39;49;00m\u001b[38;5;124;43m/\u001b[39;49m\u001b[38;5;124;43m\"\u001b[39;49m\u001b[43m)\u001b[49m\n\u001b[0;32m   1750\u001b[0m     \u001b[38;5;28mself\u001b[39m\u001b[38;5;241m.\u001b[39m_params \u001b[38;5;241m=\u001b[39m load_punkt_params(lang_dir)\n\u001b[0;32m   1751\u001b[0m     \u001b[38;5;28mself\u001b[39m\u001b[38;5;241m.\u001b[39m_lang \u001b[38;5;241m=\u001b[39m lang\n",
      "File \u001b[1;32mc:\\Users\\JLFA\\anaconda3\\envs\\dev\\Lib\\site-packages\\nltk\\data.py:579\u001b[0m, in \u001b[0;36mfind\u001b[1;34m(resource_name, paths)\u001b[0m\n\u001b[0;32m    577\u001b[0m sep \u001b[38;5;241m=\u001b[39m \u001b[38;5;124m\"\u001b[39m\u001b[38;5;124m*\u001b[39m\u001b[38;5;124m\"\u001b[39m \u001b[38;5;241m*\u001b[39m \u001b[38;5;241m70\u001b[39m\n\u001b[0;32m    578\u001b[0m resource_not_found \u001b[38;5;241m=\u001b[39m \u001b[38;5;124mf\u001b[39m\u001b[38;5;124m\"\u001b[39m\u001b[38;5;130;01m\\n\u001b[39;00m\u001b[38;5;132;01m{\u001b[39;00msep\u001b[38;5;132;01m}\u001b[39;00m\u001b[38;5;130;01m\\n\u001b[39;00m\u001b[38;5;132;01m{\u001b[39;00mmsg\u001b[38;5;132;01m}\u001b[39;00m\u001b[38;5;130;01m\\n\u001b[39;00m\u001b[38;5;132;01m{\u001b[39;00msep\u001b[38;5;132;01m}\u001b[39;00m\u001b[38;5;130;01m\\n\u001b[39;00m\u001b[38;5;124m\"\u001b[39m\n\u001b[1;32m--> 579\u001b[0m \u001b[38;5;28;01mraise\u001b[39;00m \u001b[38;5;167;01mLookupError\u001b[39;00m(resource_not_found)\n",
      "\u001b[1;31mLookupError\u001b[0m: \n**********************************************************************\n  Resource \u001b[93mpunkt_tab\u001b[0m not found.\n  Please use the NLTK Downloader to obtain the resource:\n\n  \u001b[31m>>> import nltk\n  >>> nltk.download('punkt_tab')\n  \u001b[0m\n  For more information see: https://www.nltk.org/data.html\n\n  Attempted to load \u001b[93mtokenizers/punkt_tab/english/\u001b[0m\n\n  Searched in:\n    - 'C:\\\\Users\\\\JLFA/nltk_data'\n    - 'c:\\\\Users\\\\JLFA\\\\anaconda3\\\\envs\\\\dev\\\\nltk_data'\n    - 'c:\\\\Users\\\\JLFA\\\\anaconda3\\\\envs\\\\dev\\\\share\\\\nltk_data'\n    - 'c:\\\\Users\\\\JLFA\\\\anaconda3\\\\envs\\\\dev\\\\lib\\\\nltk_data'\n    - 'C:\\\\Users\\\\JLFA\\\\AppData\\\\Roaming\\\\nltk_data'\n    - 'C:\\\\nltk_data'\n    - 'D:\\\\nltk_data'\n    - 'E:\\\\nltk_data'\n**********************************************************************\n"
     ]
    }
   ],
   "source": [
    "texto = limpiar_texto(oferta)\n",
    "print(texto)\n",
    "texto = eliminar_stopwords(texto)\n",
    "texto = aplicar_stemming(texto)  # O usar lematización\n",
    "print(\"Texto procesado:\", texto)"
   ]
  }
 ],
 "metadata": {
  "kernelspec": {
   "display_name": "dev",
   "language": "python",
   "name": "python3"
  },
  "language_info": {
   "codemirror_mode": {
    "name": "ipython",
    "version": 3
   },
   "file_extension": ".py",
   "mimetype": "text/x-python",
   "name": "python",
   "nbconvert_exporter": "python",
   "pygments_lexer": "ipython3",
   "version": "3.11.8"
  }
 },
 "nbformat": 4,
 "nbformat_minor": 2
}
