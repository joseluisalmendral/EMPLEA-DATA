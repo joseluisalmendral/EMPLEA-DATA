{
 "cells": [
  {
   "cell_type": "markdown",
   "metadata": {},
   "source": [
    "## Proceso ETL"
   ]
  },
  {
   "cell_type": "markdown",
   "metadata": {},
   "source": [
    "- Poner datos\n",
    "- Lanzar el agente para que genere las nuevas columnas\n",
    "- Generar los Json y meterlos a la base de datos"
   ]
  },
  {
   "cell_type": "code",
   "execution_count": 2,
   "metadata": {},
   "outputs": [],
   "source": [
    "import pandas as pd"
   ]
  },
  {
   "cell_type": "code",
   "execution_count": 13,
   "metadata": {},
   "outputs": [
    {
     "data": {
      "text/html": [
       "<div>\n",
       "<style scoped>\n",
       "    .dataframe tbody tr th:only-of-type {\n",
       "        vertical-align: middle;\n",
       "    }\n",
       "\n",
       "    .dataframe tbody tr th {\n",
       "        vertical-align: top;\n",
       "    }\n",
       "\n",
       "    .dataframe thead th {\n",
       "        text-align: right;\n",
       "    }\n",
       "</style>\n",
       "<table border=\"1\" class=\"dataframe\">\n",
       "  <thead>\n",
       "    <tr style=\"text-align: right;\">\n",
       "      <th></th>\n",
       "      <th>Titulo</th>\n",
       "      <th>Empresa</th>\n",
       "      <th>Ubicacion</th>\n",
       "      <th>Salario</th>\n",
       "      <th>Experiencia minima</th>\n",
       "      <th>Tipo de contrato</th>\n",
       "      <th>Estudios minimos</th>\n",
       "      <th>Skills</th>\n",
       "      <th>Descripcion</th>\n",
       "      <th>Referencia</th>\n",
       "      <th>cat_original</th>\n",
       "    </tr>\n",
       "  </thead>\n",
       "  <tbody>\n",
       "    <tr>\n",
       "      <th>0</th>\n",
       "      <td>Machine Learning Specialist</td>\n",
       "      <td>Infinite Data Labs</td>\n",
       "      <td>Granada, España</td>\n",
       "      <td>60.000€ - 70.000€ Bruto/año</td>\n",
       "      <td>Al menos 4 años</td>\n",
       "      <td>Indefinido, jornada completa</td>\n",
       "      <td>Ciclo Formativo Grado Superior en Informática</td>\n",
       "      <td>R, Deep Learning, Data Visualization, Big Data</td>\n",
       "      <td>En Infinite Data Labs, estamos buscando un/a M...</td>\n",
       "      <td>E6EC0A51</td>\n",
       "      <td>Data Scientist</td>\n",
       "    </tr>\n",
       "    <tr>\n",
       "      <th>1</th>\n",
       "      <td>Predictive Analytics Expert</td>\n",
       "      <td>BrightAI Solutions</td>\n",
       "      <td>Bilbao, España</td>\n",
       "      <td>45.000€ - 55.000€ Bruto/año</td>\n",
       "      <td>Al menos 3 años</td>\n",
       "      <td>Temporal, media jornada</td>\n",
       "      <td>Máster en Data Science</td>\n",
       "      <td>Hadoop, Spark, Kafka, ETL Processes</td>\n",
       "      <td>En BrightAI Solutions, estamos buscando un/a P...</td>\n",
       "      <td>3389D3B4</td>\n",
       "      <td>Data Scientist</td>\n",
       "    </tr>\n",
       "  </tbody>\n",
       "</table>\n",
       "</div>"
      ],
      "text/plain": [
       "                        Titulo             Empresa        Ubicacion  \\\n",
       "0  Machine Learning Specialist  Infinite Data Labs  Granada, España   \n",
       "1  Predictive Analytics Expert  BrightAI Solutions   Bilbao, España   \n",
       "\n",
       "                       Salario Experiencia minima  \\\n",
       "0  60.000€ - 70.000€ Bruto/año    Al menos 4 años   \n",
       "1  45.000€ - 55.000€ Bruto/año    Al menos 3 años   \n",
       "\n",
       "               Tipo de contrato  \\\n",
       "0  Indefinido, jornada completa   \n",
       "1       Temporal, media jornada   \n",
       "\n",
       "                                Estudios minimos  \\\n",
       "0  Ciclo Formativo Grado Superior en Informática   \n",
       "1                         Máster en Data Science   \n",
       "\n",
       "                                           Skills  \\\n",
       "0  R, Deep Learning, Data Visualization, Big Data   \n",
       "1             Hadoop, Spark, Kafka, ETL Processes   \n",
       "\n",
       "                                         Descripcion Referencia  \\\n",
       "0  En Infinite Data Labs, estamos buscando un/a M...   E6EC0A51   \n",
       "1  En BrightAI Solutions, estamos buscando un/a P...   3389D3B4   \n",
       "\n",
       "     cat_original  \n",
       "0  Data Scientist  \n",
       "1  Data Scientist  "
      ]
     },
     "execution_count": 13,
     "metadata": {},
     "output_type": "execute_result"
    }
   ],
   "source": [
    "ruta_archivo = 'datos/datos_generados/ofertas_data_scientist.csv'\n",
    "\n",
    "df = pd.read_csv(ruta_archivo)\n",
    "\n",
    "df.drop(columns=['Unnamed: 0'], inplace=True)\n",
    "\n",
    "df.head(2)"
   ]
  },
  {
   "cell_type": "code",
   "execution_count": 14,
   "metadata": {},
   "outputs": [],
   "source": [
    "df.to_csv(ruta_archivo, index=False)"
   ]
  }
 ],
 "metadata": {
  "kernelspec": {
   "display_name": "dev",
   "language": "python",
   "name": "python3"
  },
  "language_info": {
   "codemirror_mode": {
    "name": "ipython",
    "version": 3
   },
   "file_extension": ".py",
   "mimetype": "text/x-python",
   "name": "python",
   "nbconvert_exporter": "python",
   "pygments_lexer": "ipython3",
   "version": "3.11.8"
  }
 },
 "nbformat": 4,
 "nbformat_minor": 2
}
