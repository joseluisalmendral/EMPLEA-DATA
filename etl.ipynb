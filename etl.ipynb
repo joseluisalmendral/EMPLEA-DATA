{
 "cells": [
  {
   "cell_type": "markdown",
   "metadata": {},
   "source": [
    "## Proceso ETL"
   ]
  },
  {
   "cell_type": "markdown",
   "metadata": {},
   "source": [
    "- Poner datos\n",
    "- Lanzar el agente para que genere las nuevas columnas\n",
    "- Generar los Json y meterlos a la base de datos"
   ]
  }
 ],
 "metadata": {
  "language_info": {
   "name": "python"
  }
 },
 "nbformat": 4,
 "nbformat_minor": 2
}
